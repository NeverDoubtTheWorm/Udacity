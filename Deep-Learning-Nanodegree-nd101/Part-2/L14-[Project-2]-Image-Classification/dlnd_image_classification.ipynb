{
 "cells": [
  {
   "cell_type": "markdown",
   "metadata": {
    "collapsed": true,
    "deletable": true,
    "editable": true
   },
   "source": [
    "# Image Classification\n",
    "In this project, you'll classify images from the [CIFAR-10 dataset](https://www.cs.toronto.edu/~kriz/cifar.html).  The dataset consists of airplanes, dogs, cats, and other objects. You'll preprocess the images, then train a convolutional neural network on all the samples. The images need to be normalized and the labels need to be one-hot encoded.  You'll get to apply what you learned and build a convolutional, max pooling, dropout, and fully connected layers.  At the end, you'll get to see your neural network's predictions on the sample images.\n",
    "## Get the Data\n",
    "Run the following cell to download the [CIFAR-10 dataset for python](https://www.cs.toronto.edu/~kriz/cifar-10-python.tar.gz)."
   ]
  },
  {
   "cell_type": "code",
   "execution_count": 1,
   "metadata": {
    "collapsed": false,
    "deletable": true,
    "editable": true
   },
   "outputs": [
    {
     "name": "stderr",
     "output_type": "stream",
     "text": [
      "CIFAR-10 Dataset: 171MB [01:21, 2.09MB/s]                              \n"
     ]
    },
    {
     "name": "stdout",
     "output_type": "stream",
     "text": [
      "All files found!\n"
     ]
    }
   ],
   "source": [
    "\"\"\"\n",
    "DON'T MODIFY ANYTHING IN THIS CELL THAT IS BELOW THIS LINE\n",
    "\"\"\"\n",
    "from urllib.request import urlretrieve\n",
    "from os.path import isfile, isdir\n",
    "from tqdm import tqdm\n",
    "import problem_unittests as tests\n",
    "import tarfile\n",
    "\n",
    "cifar10_dataset_folder_path = 'cifar-10-batches-py'\n",
    "\n",
    "class DLProgress(tqdm):\n",
    "    last_block = 0\n",
    "\n",
    "    def hook(self, block_num=1, block_size=1, total_size=None):\n",
    "        self.total = total_size\n",
    "        self.update((block_num - self.last_block) * block_size)\n",
    "        self.last_block = block_num\n",
    "\n",
    "if not isfile('cifar-10-python.tar.gz'):\n",
    "    with DLProgress(unit='B', unit_scale=True, miniters=1, desc='CIFAR-10 Dataset') as pbar:\n",
    "        urlretrieve(\n",
    "            'https://www.cs.toronto.edu/~kriz/cifar-10-python.tar.gz',\n",
    "            'cifar-10-python.tar.gz',\n",
    "            pbar.hook)\n",
    "\n",
    "if not isdir(cifar10_dataset_folder_path):\n",
    "    with tarfile.open('cifar-10-python.tar.gz') as tar:\n",
    "        tar.extractall()\n",
    "        tar.close()\n",
    "\n",
    "\n",
    "tests.test_folder_path(cifar10_dataset_folder_path)"
   ]
  },
  {
   "cell_type": "markdown",
   "metadata": {
    "deletable": true,
    "editable": true
   },
   "source": [
    "## Explore the Data\n",
    "The dataset is broken into batches to prevent your machine from running out of memory.  The CIFAR-10 dataset consists of 5 batches, named `data_batch_1`, `data_batch_2`, etc.. Each batch contains the labels and images that are one of the following:\n",
    "* airplane\n",
    "* automobile\n",
    "* bird\n",
    "* cat\n",
    "* deer\n",
    "* dog\n",
    "* frog\n",
    "* horse\n",
    "* ship\n",
    "* truck\n",
    "\n",
    "Understanding a dataset is part of making predictions on the data.  Play around with the code cell below by changing the `batch_id` and `sample_id`. The `batch_id` is the id for a batch (1-5). The `sample_id` is the id for a image and label pair in the batch.\n",
    "\n",
    "Ask yourself \"What are all possible labels?\", \"What is the range of values for the image data?\", \"Are the labels in order or random?\".  Answers to questions like these will help you preprocess the data and end up with better predictions."
   ]
  },
  {
   "cell_type": "code",
   "execution_count": 2,
   "metadata": {
    "collapsed": false,
    "deletable": true,
    "editable": true
   },
   "outputs": [
    {
     "name": "stdout",
     "output_type": "stream",
     "text": [
      "\n",
      "Stats of batch 1:\n",
      "Samples: 10000\n",
      "Label Counts: {0: 1005, 1: 974, 2: 1032, 3: 1016, 4: 999, 5: 937, 6: 1030, 7: 1001, 8: 1025, 9: 981}\n",
      "First 20 Labels: [6, 9, 9, 4, 1, 1, 2, 7, 8, 3, 4, 7, 7, 2, 9, 9, 9, 3, 2, 6]\n",
      "\n",
      "Example of Image 6180:\n",
      "Image - Min Value: 17 Max Value: 236\n",
      "Image - Shape: (32, 32, 3)\n",
      "Label - Label Id: 4 Name: deer\n"
     ]
    },
    {
     "data": {
      "image/png": "[encoded data removed]",
      "text/plain": [
       "<matplotlib.figure.Figure at 0x7fba58780630>"
      ]
     },
     "metadata": {
      "image/png": {
       "height": 250,
       "width": 253
      }
     },
     "output_type": "display_data"
    }
   ],
   "source": [
    "%matplotlib inline\n",
    "%config InlineBackend.figure_format = 'retina'\n",
    "\n",
    "import helper\n",
    "import numpy as np\n",
    "\n",
    "# Explore the dataset\n",
    "batch_id = 1\n",
    "sample_id = 6180\n",
    "helper.display_stats(cifar10_dataset_folder_path, batch_id, sample_id)"
   ]
  },
  {
   "cell_type": "markdown",
   "metadata": {
    "deletable": true,
    "editable": true
   },
   "source": [
    "## Implement Preprocess Functions\n",
    "### Normalize\n",
    "In the cell below, implement the `normalize` function to take in image data, `x`, and return it as a normalized Numpy array. The values should be in the range of 0 to 1, inclusive.  The return object should be the same shape as `x`."
   ]
  },
  {
   "cell_type": "code",
   "execution_count": 4,
   "metadata": {
    "collapsed": false,
    "deletable": true,
    "editable": true
   },
   "outputs": [
    {
     "name": "stdout",
     "output_type": "stream",
     "text": [
      "Tests Passed\n"
     ]
    }
   ],
   "source": [
    "def normalize(x, a=0.0, b = 1.0):\n",
    "    \"\"\"\n",
    "    Normalize a list of sample image data in the range of 0 to 1\n",
    "    : x: List of image data.  The image shape is (32, 32, 3)\n",
    "    : return: Numpy array of normalize data\n",
    "    \"\"\"\n",
    "    # TODO: Implement Function\n",
    "    mean = np.mean(x)\n",
    "    std = np.std(x)\n",
    "    x_norm = (x - mean) / std\n",
    "    norm_x_min = -3.14\n",
    "    norm_x_max =  3.14\n",
    "    x_norm = a + (x_norm - norm_x_min) * (b-a) / (norm_x_max - norm_x_min)\n",
    "    return x_norm\n",
    "\n",
    "\n",
    "\"\"\"\n",
    "DON'T MODIFY ANYTHING IN THIS CELL THAT IS BELOW THIS LINE\n",
    "\"\"\"\n",
    "tests.test_normalize(normalize)"
   ]
  },
  {
   "cell_type": "markdown",
   "metadata": {
    "deletable": true,
    "editable": true
   },
   "source": [
    "### One-hot encode\n",
    "Just like the previous code cell, you'll be implementing a function for preprocessing.  This time, you'll implement the `one_hot_encode` function. The input, `x`, are a list of labels.  Implement the function to return the list of labels as One-Hot encoded Numpy array.  The possible values for labels are 0 to 9. The one-hot encoding function should return the same encoding for each value between each call to `one_hot_encode`.  Make sure to save the map of encodings outside the function.\n",
    "\n",
    "Hint: Don't reinvent the wheel."
   ]
  },
  {
   "cell_type": "code",
   "execution_count": 5,
   "metadata": {
    "collapsed": false,
    "deletable": true,
    "editable": true
   },
   "outputs": [
    {
     "name": "stdout",
     "output_type": "stream",
     "text": [
      "Tests Passed\n"
     ]
    }
   ],
   "source": [
    "def one_hot_encode(x):\n",
    "    \"\"\"\n",
    "    One hot encode a list of sample labels. Return a one-hot encoded vector for each label.\n",
    "    : x: List of sample Labels\n",
    "    : return: Numpy array of one-hot encoded labels\n",
    "    \"\"\"\n",
    "    # TODO: Implement Function\n",
    "    one_hot_list = []\n",
    "    for i, label in enumerate(x):\n",
    "        vector = np.zeros(10, 'uint8')\n",
    "        vector[label] = 1        \n",
    "        one_hot_list.append(vector)\n",
    "        \n",
    "    return np.array(one_hot_list)\n",
    "\n",
    "\n",
    "\"\"\"\n",
    "DON'T MODIFY ANYTHING IN THIS CELL THAT IS BELOW THIS LINE\n",
    "\"\"\"\n",
    "tests.test_one_hot_encode(one_hot_encode)"
   ]
  },
  {
   "cell_type": "markdown",
   "metadata": {
    "deletable": true,
    "editable": true
   },
   "source": [
    "### Randomize Data\n",
    "As you saw from exploring the data above, the order of the samples are randomized.  It doesn't hurt to randomize it again, but you don't need to for this dataset."
   ]
  },
  {
   "cell_type": "markdown",
   "metadata": {
    "deletable": true,
    "editable": true
   },
   "source": [
    "## Preprocess all the data and save it\n",
    "Running the code cell below will preprocess all the CIFAR-10 data and save it to file. The code below also uses 10% of the training data for validation."
   ]
  },
  {
   "cell_type": "code",
   "execution_count": 6,
   "metadata": {
    "collapsed": false,
    "deletable": true,
    "editable": true
   },
   "outputs": [],
   "source": [
    "\"\"\"\n",
    "DON'T MODIFY ANYTHING IN THIS CELL\n",
    "\"\"\"\n",
    "# Preprocess Training, Validation, and Testing Data\n",
    "helper.preprocess_and_save_data(cifar10_dataset_folder_path, normalize, one_hot_encode)"
   ]
  },
  {
   "cell_type": "markdown",
   "metadata": {
    "deletable": true,
    "editable": true
   },
   "source": [
    "# Check Point\n",
    "This is your first checkpoint.  If you ever decide to come back to this notebook or have to restart the notebook, you can start from here.  The preprocessed data has been saved to disk."
   ]
  },
  {
   "cell_type": "code",
   "execution_count": 1,
   "metadata": {
    "collapsed": true,
    "deletable": true,
    "editable": true
   },
   "outputs": [],
   "source": [
    "\"\"\"\n",
    "DON'T MODIFY ANYTHING IN THIS CELL\n",
    "\"\"\"\n",
    "import pickle\n",
    "import problem_unittests as tests\n",
    "import helper\n",
    "\n",
    "# Load the Preprocessed Validation data\n",
    "valid_features, valid_labels = pickle.load(open('preprocess_validation.p', mode='rb'))"
   ]
  },
  {
   "cell_type": "markdown",
   "metadata": {
    "deletable": true,
    "editable": true
   },
   "source": [
    "## Build the network\n",
    "For the neural network, you'll build each layer into a function.  Most of the code you've seen has been outside of functions. To test your code more thoroughly, we require that you put each layer in a function.  This allows us to give you better feedback and test for simple mistakes using our unittests before you submit your project.\n",
    "\n",
    ">**Note:** If you're finding it hard to dedicate enough time for this course each week, we've provided a small shortcut to this part of the project. In the next couple of problems, you'll have the option to use classes from the [TensorFlow Layers](https://www.tensorflow.org/api_docs/python/tf/layers) or [TensorFlow Layers (contrib)](https://www.tensorflow.org/api_guides/python/contrib.layers) packages to build each layer, except the layers you build in the \"Convolutional and Max Pooling Layer\" section.  TF Layers is similar to Keras's and TFLearn's abstraction to layers, so it's easy to pickup.\n",
    "\n",
    ">However, if you would like to get the most out of this course, try to solve all the problems _without_ using anything from the TF Layers packages. You **can** still use classes from other packages that happen to have the same name as ones you find in TF Layers! For example, instead of using the TF Layers version of the `conv2d` class, [tf.layers.conv2d](https://www.tensorflow.org/api_docs/python/tf/layers/conv2d), you would want to use the TF Neural Network version of `conv2d`, [tf.nn.conv2d](https://www.tensorflow.org/api_docs/python/tf/nn/conv2d). \n",
    "\n",
    "Let's begin!\n",
    "\n",
    "### Input\n",
    "The neural network needs to read the image data, one-hot encoded labels, and dropout keep probability. Implement the following functions\n",
    "* Implement `neural_net_image_input`\n",
    " * Return a [TF Placeholder](https://www.tensorflow.org/api_docs/python/tf/placeholder)\n",
    " * Set the shape using `image_shape` with batch size set to `None`.\n",
    " * Name the TensorFlow placeholder \"x\" using the TensorFlow `name` parameter in the [TF Placeholder](https://www.tensorflow.org/api_docs/python/tf/placeholder).\n",
    "* Implement `neural_net_label_input`\n",
    " * Return a [TF Placeholder](https://www.tensorflow.org/api_docs/python/tf/placeholder)\n",
    " * Set the shape using `n_classes` with batch size set to `None`.\n",
    " * Name the TensorFlow placeholder \"y\" using the TensorFlow `name` parameter in the [TF Placeholder](https://www.tensorflow.org/api_docs/python/tf/placeholder).\n",
    "* Implement `neural_net_keep_prob_input`\n",
    " * Return a [TF Placeholder](https://www.tensorflow.org/api_docs/python/tf/placeholder) for dropout keep probability.\n",
    " * Name the TensorFlow placeholder \"keep_prob\" using the TensorFlow `name` parameter in the [TF Placeholder](https://www.tensorflow.org/api_docs/python/tf/placeholder).\n",
    "\n",
    "These names will be used at the end of the project to load your saved model.\n",
    "\n",
    "Note: `None` for shapes in TensorFlow allow for a dynamic size."
   ]
  },
  {
   "cell_type": "code",
   "execution_count": 2,
   "metadata": {
    "collapsed": false,
    "deletable": true,
    "editable": true
   },
   "outputs": [
    {
     "name": "stdout",
     "output_type": "stream",
     "text": [
      "Image Input Tests Passed.\n",
      "Label Input Tests Passed.\n",
      "Keep Prob Tests Passed.\n"
     ]
    }
   ],
   "source": [
    "import tensorflow as tf\n",
    "\n",
    "def neural_net_image_input(image_shape):\n",
    "    \"\"\"\n",
    "    Return a Tensor for a batch of image input\n",
    "    : image_shape: Shape of the images\n",
    "    : return: Tensor for image input.\n",
    "    \"\"\"\n",
    "    # TODO: Implement Function\n",
    "    return tf.placeholder(dtype = tf.float32,\n",
    "                          shape = (None,) + image_shape,\n",
    "                          name = \"x\")\n",
    "\n",
    "\n",
    "def neural_net_label_input(n_classes):\n",
    "    \"\"\"\n",
    "    Return a Tensor for a batch of label input\n",
    "    : n_classes: Number of classes\n",
    "    : return: Tensor for label input.\n",
    "    \"\"\"\n",
    "    # TODO: Implement Function\n",
    "    return tf.placeholder(dtype = tf.float32,\n",
    "                          shape = (None, n_classes),\n",
    "                          name = \"y\")\n",
    "\n",
    "\n",
    "def neural_net_keep_prob_input():\n",
    "    \"\"\"\n",
    "    Return a Tensor for keep probability\n",
    "    : return: Tensor for keep probability.\n",
    "    \"\"\"\n",
    "    # TODO: Implement Function\n",
    "    return tf.placeholder(dtype = tf.float32,\n",
    "                          name = \"keep_prob\")\n",
    "\n",
    "\n",
    "\"\"\"\n",
    "DON'T MODIFY ANYTHING IN THIS CELL THAT IS BELOW THIS LINE\n",
    "\"\"\"\n",
    "tf.reset_default_graph()\n",
    "tests.test_nn_image_inputs(neural_net_image_input)\n",
    "tests.test_nn_label_inputs(neural_net_label_input)\n",
    "tests.test_nn_keep_prob_inputs(neural_net_keep_prob_input)"
   ]
  },
  {
   "cell_type": "markdown",
   "metadata": {
    "deletable": true,
    "editable": true
   },
   "source": [
    "### Convolution and Max Pooling Layer\n",
    "Convolution layers have a lot of success with images. For this code cell, you should implement the function `conv2d_maxpool` to apply convolution then max pooling:\n",
    "* Create the weight and bias using `conv_ksize`, `conv_num_outputs` and the shape of `x_tensor`.\n",
    "* Apply a convolution to `x_tensor` using weight and `conv_strides`.\n",
    " * We recommend you use same padding, but you're welcome to use any padding.\n",
    "* Add bias\n",
    "* Add a nonlinear activation to the convolution.\n",
    "* Apply Max Pooling using `pool_ksize` and `pool_strides`.\n",
    " * We recommend you use same padding, but you're welcome to use any padding.\n",
    "\n",
    "**Note:** You **can't** use [TensorFlow Layers](https://www.tensorflow.org/api_docs/python/tf/layers) or [TensorFlow Layers (contrib)](https://www.tensorflow.org/api_guides/python/contrib.layers) for **this** layer, but you can still use TensorFlow's [Neural Network](https://www.tensorflow.org/api_docs/python/tf/nn) package. You may still use the shortcut option for all the **other** layers."
   ]
  },
  {
   "cell_type": "code",
   "execution_count": 3,
   "metadata": {
    "collapsed": false,
    "deletable": true,
    "editable": true
   },
   "outputs": [
    {
     "name": "stdout",
     "output_type": "stream",
     "text": [
      "Tests Passed\n"
     ]
    }
   ],
   "source": [
    "from math import ceil\n",
    "\n",
    "def new_weights(shape):\n",
    "    return tf.Variable(tf.truncated_normal(shape, mean=0, stddev=0.05))\n",
    "\n",
    "def new_biases(length):\n",
    "    return tf.Variable(tf.constant(0.1, shape=[length]))\n",
    "\n",
    "def conv2d_maxpool(x_tensor,\n",
    "                   conv_num_outputs, \n",
    "                   conv_ksize=(3, 3),\n",
    "                   conv_strides=(1, 1),\n",
    "                   pool_ksize=(2, 2),\n",
    "                   pool_strides=(2, 2),\n",
    "                   use_pool=True):\n",
    "    \"\"\"\n",
    "    Apply convolution then max pooling to x_tensor\n",
    "    :param x_tensor: TensorFlow Tensor\n",
    "    :param conv_num_outputs: Number of outputs for the convolutional layer\n",
    "    :param conv_ksize: kernal size 2-D Tuple for the convolutional layer\n",
    "    :param conv_strides: Stride 2-D Tuple for convolution\n",
    "    :param pool_ksize: kernal size 2-D Tuple for pool\n",
    "    :param pool_strides: Stride 2-D Tuple for pool\n",
    "    : return: A tensor that represents convolution and max pooling of x_tensor\n",
    "    \"\"\"\n",
    "    # TODO: Implement Function\n",
    "    padding = 'SAME'\n",
    "    _, in_height, in_width, in_channels = x_tensor.get_shape().as_list()\n",
    "    \n",
    "    strides = (1,)+conv_strides+(1,)\n",
    "    kernel_height, kernel_width = conv_ksize\n",
    "    \n",
    "    shape = [kernel_height, kernel_width, in_channels, conv_num_outputs]\n",
    "    F_W = new_weights(shape)\n",
    "    F_b = new_biases(conv_num_outputs)\n",
    "    \n",
    "    layer = tf.nn.conv2d(x_tensor, F_W, strides, padding)\n",
    "    layer = tf.nn.bias_add(layer, F_b)\n",
    "    \n",
    "    layer = tf.nn.relu(layer)\n",
    "    \n",
    "    if use_pool:\n",
    "        ksize = (1,)+pool_ksize+(1,)\n",
    "        strides = (1,)+pool_strides+(1,)\n",
    "        layer = tf.nn.max_pool(layer, ksize, strides, padding)\n",
    "    \n",
    "    return layer\n",
    "\n",
    "\n",
    "\"\"\"\n",
    "DON'T MODIFY ANYTHING IN THIS CELL THAT IS BELOW THIS LINE\n",
    "\"\"\"\n",
    "tests.test_con_pool(conv2d_maxpool)"
   ]
  },
  {
   "cell_type": "markdown",
   "metadata": {
    "deletable": true,
    "editable": true
   },
   "source": [
    "### Flatten Layer\n",
    "Implement the `flatten` function to change the dimension of `x_tensor` from a 4-D tensor to a 2-D tensor.  The output should be the shape (*Batch Size*, *Flattened Image Size*). Shortcut option: you can use classes from the [TensorFlow Layers](https://www.tensorflow.org/api_docs/python/tf/layers) or [TensorFlow Layers (contrib)](https://www.tensorflow.org/api_guides/python/contrib.layers) packages for this layer. For more of a challenge, only use other TensorFlow packages."
   ]
  },
  {
   "cell_type": "code",
   "execution_count": 4,
   "metadata": {
    "collapsed": false,
    "deletable": true,
    "editable": true
   },
   "outputs": [
    {
     "name": "stdout",
     "output_type": "stream",
     "text": [
      "Tests Passed\n"
     ]
    }
   ],
   "source": [
    "def flatten(x_tensor):\n",
    "    \"\"\"\n",
    "    Flatten x_tensor to (Batch Size, Flattened Image Size)\n",
    "    : x_tensor: A tensor of size (Batch Size, ...), where ... are the image dimensions.\n",
    "    : return: A tensor of size (Batch Size, Flattened Image Size).\n",
    "    \"\"\"\n",
    "    # TODO: Implement Function\n",
    "    ## return tf.contrib.layers.flatten(x_tensor)\n",
    "    # shape = x_tensor.get_shape().as_list()\n",
    "    # volume = shape[1] * shape[2] * shape[3]\n",
    "    # return tf.reshape(x_tensor, [-1, volume])\n",
    "    num_features = x_tensor.get_shape()[1:4].num_elements()\n",
    "    return tf.reshape(x_tensor, [-1, num_features])\n",
    "\n",
    "\n",
    "\"\"\"\n",
    "DON'T MODIFY ANYTHING IN THIS CELL THAT IS BELOW THIS LINE\n",
    "\"\"\"\n",
    "tests.test_flatten(flatten)"
   ]
  },
  {
   "cell_type": "markdown",
   "metadata": {
    "deletable": true,
    "editable": true
   },
   "source": [
    "### Fully-Connected Layer\n",
    "Implement the `fully_conn` function to apply a fully connected layer to `x_tensor` with the shape (*Batch Size*, *num_outputs*). Shortcut option: you can use classes from the [TensorFlow Layers](https://www.tensorflow.org/api_docs/python/tf/layers) or [TensorFlow Layers (contrib)](https://www.tensorflow.org/api_guides/python/contrib.layers) packages for this layer. For more of a challenge, only use other TensorFlow packages."
   ]
  },
  {
   "cell_type": "code",
   "execution_count": 5,
   "metadata": {
    "collapsed": false,
    "deletable": true,
    "editable": true
   },
   "outputs": [
    {
     "name": "stdout",
     "output_type": "stream",
     "text": [
      "Tests Passed\n"
     ]
    }
   ],
   "source": [
    "def fully_conn(x_tensor, num_outputs, use_relu=True):\n",
    "    \"\"\"\n",
    "    Apply a fully connected layer to x_tensor using weight and bias\n",
    "    : x_tensor: A 2-D tensor where the first dimension is batch size.\n",
    "    : num_outputs: The number of output that the new tensor should be.\n",
    "    : return: A 2-D tensor where the second dimension is num_outputs.\n",
    "    \"\"\"\n",
    "    # TODO: Implement Function\n",
    "    \n",
    "    _, num_inputs = x_tensor.get_shape().as_list()\n",
    "    \n",
    "    weights = new_weights([num_inputs, num_outputs])\n",
    "    biases = new_biases(num_outputs)\n",
    "\n",
    "    layer = tf.matmul(x_tensor, weights) + biases\n",
    "    \n",
    "    if use_relu:\n",
    "        layer = tf.nn.relu(layer)\n",
    "    \n",
    "    return layer\n",
    "\n",
    "\n",
    "\"\"\"\n",
    "DON'T MODIFY ANYTHING IN THIS CELL THAT IS BELOW THIS LINE\n",
    "\"\"\"\n",
    "tests.test_fully_conn(fully_conn)"
   ]
  },
  {
   "cell_type": "markdown",
   "metadata": {
    "deletable": true,
    "editable": true
   },
   "source": [
    "### Output Layer\n",
    "Implement the `output` function to apply a fully connected layer to `x_tensor` with the shape (*Batch Size*, *num_outputs*). Shortcut option: you can use classes from the [TensorFlow Layers](https://www.tensorflow.org/api_docs/python/tf/layers) or [TensorFlow Layers (contrib)](https://www.tensorflow.org/api_guides/python/contrib.layers) packages for this layer. For more of a challenge, only use other TensorFlow packages.\n",
    "\n",
    "**Note:** Activation, softmax, or cross entropy should **not** be applied to this."
   ]
  },
  {
   "cell_type": "code",
   "execution_count": 6,
   "metadata": {
    "collapsed": false,
    "deletable": true,
    "editable": true
   },
   "outputs": [
    {
     "name": "stdout",
     "output_type": "stream",
     "text": [
      "Tests Passed\n"
     ]
    }
   ],
   "source": [
    "def output(x_tensor, num_outputs):\n",
    "    \"\"\"\n",
    "    Apply a output layer to x_tensor using weight and bias\n",
    "    : x_tensor: A 2-D tensor where the first dimension is batch size.\n",
    "    : num_outputs: The number of output that the new tensor should be.\n",
    "    : return: A 2-D tensor where the second dimension is num_outputs.\n",
    "    \"\"\"\n",
    "    # TODO: Implement Function\n",
    "    return fully_conn(x_tensor = x_tensor,\n",
    "                      num_outputs = num_outputs, \n",
    "                      use_relu = False)\n",
    "\n",
    "\n",
    "\"\"\"\n",
    "DON'T MODIFY ANYTHING IN THIS CELL THAT IS BELOW THIS LINE\n",
    "\"\"\"\n",
    "tests.test_output(output)"
   ]
  },
  {
   "cell_type": "markdown",
   "metadata": {
    "deletable": true,
    "editable": true
   },
   "source": [
    "### Create Convolutional Model\n",
    "Implement the function `conv_net` to create a convolutional neural network model. The function takes in a batch of images, `x`, and outputs logits.  Use the layers you created above to create this model:\n",
    "\n",
    "* Apply 1, 2, or 3 Convolution and Max Pool layers\n",
    "* Apply a Flatten Layer\n",
    "* Apply 1, 2, or 3 Fully Connected Layers\n",
    "* Apply an Output Layer\n",
    "* Return the output\n",
    "* Apply [TensorFlow's Dropout](https://www.tensorflow.org/api_docs/python/tf/nn/dropout) to one or more layers in the model using `keep_prob`. "
   ]
  },
  {
   "cell_type": "code",
   "execution_count": 12,
   "metadata": {
    "collapsed": false,
    "deletable": true,
    "editable": true
   },
   "outputs": [
    {
     "name": "stdout",
     "output_type": "stream",
     "text": [
      "Tensor(\"Reshape:0\", shape=(?, 2048), dtype=float32)\n",
      "Tensor(\"Reshape_4:0\", shape=(?, 2048), dtype=float32)\n",
      "Neural Network Built!\n"
     ]
    }
   ],
   "source": [
    "def conv_net(x, keep_prob):\n",
    "    \"\"\"\n",
    "    Create a convolutional neural network model\n",
    "    : x: Placeholder tensor that holds image data.\n",
    "    : keep_prob: Placeholder tensor that hold dropout keep probability.\n",
    "    : return: Tensor that represents logits\n",
    "    \"\"\"\n",
    "    # TODO: Apply 1, 2, or 3 Convolution and Max Pool layers\n",
    "    #    Play around with different number of outputs, kernel size and stride\n",
    "    # Function Definition from Above:\n",
    "    #    conv2d_maxpool(x_tensor, conv_num_outputs, conv_ksize, conv_strides, pool_ksize, pool_strides)\n",
    "    layer = conv2d_maxpool(x_tensor = x,\n",
    "                           conv_num_outputs = 32,\n",
    "                           use_pool=True)\n",
    "    \n",
    "    layer = conv2d_maxpool(x_tensor = layer,\n",
    "                           conv_num_outputs = 64,\n",
    "                           use_pool=True)\n",
    "    \n",
    "    layer = conv2d_maxpool(x_tensor = layer,\n",
    "                           conv_num_outputs = 128,\n",
    "                           use_pool=True)\n",
    "\n",
    "    # TODO: Apply a Flatten Layer\n",
    "    # Function Definition from Above:\n",
    "    #   flatten(x_tensor)\n",
    "    layer = flatten(layer)\n",
    "    print(layer)\n",
    "\n",
    "    # TODO: Apply 1, 2, or 3 Fully Connected Layers\n",
    "    #    Play around with different number of outputs\n",
    "    # Function Definition from Above:\n",
    "    #   fully_conn(x_tensor, num_outputs)\n",
    "    layer = fully_conn(x_tensor = layer, \n",
    "                       num_outputs = 2048)\n",
    "    layer = tf.nn.dropout(x= layer, keep_prob= keep_prob)\n",
    "    \n",
    "    layer = fully_conn(x_tensor = layer, \n",
    "                       num_outputs = 512)\n",
    "    \n",
    "    layer = fully_conn(x_tensor = layer, \n",
    "                       num_outputs = 64)\n",
    "    \n",
    "    \n",
    "    # TODO: Apply an Output Layer\n",
    "    #    Set this to the number of classes\n",
    "    # Function Definition from Above:\n",
    "    #   output(x_tensor, num_outputs)\n",
    "    \n",
    "    \n",
    "    # TODO: return output\n",
    "    return output(layer, 10)\n",
    "\n",
    "\n",
    "\"\"\"\n",
    "DON'T MODIFY ANYTHING IN THIS CELL THAT IS BELOW THIS LINE\n",
    "\"\"\"\n",
    "\n",
    "##############################\n",
    "## Build the Neural Network ##\n",
    "##############################\n",
    "\n",
    "# Remove previous weights, bias, inputs, etc..\n",
    "tf.reset_default_graph()\n",
    "\n",
    "# Inputs\n",
    "x = neural_net_image_input((32, 32, 3))\n",
    "y = neural_net_label_input(10)\n",
    "keep_prob = neural_net_keep_prob_input()\n",
    "\n",
    "# Model\n",
    "logits = conv_net(x, keep_prob)\n",
    "\n",
    "# Name logits Tensor, so that is can be loaded from disk after training\n",
    "logits = tf.identity(logits, name='logits')\n",
    "\n",
    "# Loss and Optimizer\n",
    "cost = tf.reduce_mean(tf.nn.softmax_cross_entropy_with_logits(logits=logits, labels=y))\n",
    "optimizer = tf.train.AdamOptimizer().minimize(cost)\n",
    "\n",
    "# Accuracy\n",
    "correct_pred = tf.equal(tf.argmax(logits, 1), tf.argmax(y, 1))\n",
    "accuracy = tf.reduce_mean(tf.cast(correct_pred, tf.float32), name='accuracy')\n",
    "\n",
    "tests.test_conv_net(conv_net)"
   ]
  },
  {
   "cell_type": "markdown",
   "metadata": {
    "deletable": true,
    "editable": true
   },
   "source": [
    "## Train the Neural Network\n",
    "### Single Optimization\n",
    "Implement the function `train_neural_network` to do a single optimization.  The optimization should use `optimizer` to optimize in `session` with a `feed_dict` of the following:\n",
    "* `x` for image input\n",
    "* `y` for labels\n",
    "* `keep_prob` for keep probability for dropout\n",
    "\n",
    "This function will be called for each batch, so `tf.global_variables_initializer()` has already been called.\n",
    "\n",
    "Note: Nothing needs to be returned. This function is only optimizing the neural network."
   ]
  },
  {
   "cell_type": "code",
   "execution_count": 8,
   "metadata": {
    "collapsed": false,
    "deletable": true,
    "editable": true
   },
   "outputs": [
    {
     "name": "stdout",
     "output_type": "stream",
     "text": [
      "Tests Passed\n"
     ]
    }
   ],
   "source": [
    "def train_neural_network(session, optimizer, keep_probability, feature_batch, label_batch):\n",
    "    \"\"\"\n",
    "    Optimize the session on a batch of images and labels\n",
    "    : session: Current TensorFlow session\n",
    "    : optimizer: TensorFlow optimizer function\n",
    "    : keep_probability: keep probability\n",
    "    : feature_batch: Batch of Numpy image data\n",
    "    : label_batch: Batch of Numpy label data\n",
    "    \"\"\"\n",
    "    # TODO: Implement Function\n",
    "    session.run(optimizer, feed_dict={x: feature_batch, y: label_batch, keep_prob: keep_probability})\n",
    "\n",
    "\n",
    "\"\"\"\n",
    "DON'T MODIFY ANYTHING IN THIS CELL THAT IS BELOW THIS LINE\n",
    "\"\"\"\n",
    "tests.test_train_nn(train_neural_network)"
   ]
  },
  {
   "cell_type": "markdown",
   "metadata": {
    "deletable": true,
    "editable": true
   },
   "source": [
    "### Show Stats\n",
    "Implement the function `print_stats` to print loss and validation accuracy.  Use the global variables `valid_features` and `valid_labels` to calculate validation accuracy.  Use a keep probability of `1.0` to calculate the loss and validation accuracy."
   ]
  },
  {
   "cell_type": "code",
   "execution_count": 9,
   "metadata": {
    "collapsed": false,
    "deletable": true,
    "editable": true
   },
   "outputs": [],
   "source": [
    "def print_stats(session, feature_batch, label_batch, cost, accuracy):\n",
    "    \"\"\"\n",
    "    Print information about loss and validation accuracy\n",
    "    : session: Current TensorFlow session\n",
    "    : feature_batch: Batch of Numpy image data\n",
    "    : label_batch: Batch of Numpy label data\n",
    "    : cost: TensorFlow cost function\n",
    "    : accuracy: TensorFlow accuracy function\n",
    "    \"\"\"\n",
    "    loss = session.run(cost, feed_dict={x: feature_batch, y: label_batch, keep_prob: 1.0})\n",
    "    valid_acc = session.run(accuracy, feed_dict={x: valid_features, y: valid_labels, keep_prob: 1.0})\n",
    "    print(\"Training Loss is\", loss, \"and validation accuracy is\", valid_acc,)\n",
    "    "
   ]
  },
  {
   "cell_type": "markdown",
   "metadata": {
    "deletable": true,
    "editable": true
   },
   "source": [
    "### Hyperparameters\n",
    "Tune the following parameters:\n",
    "* Set `epochs` to the number of iterations until the network stops learning or start overfitting\n",
    "* Set `batch_size` to the highest number that your machine has memory for.  Most people set them to common sizes of memory:\n",
    " * 64\n",
    " * 128\n",
    " * 256\n",
    " * ...\n",
    "* Set `keep_probability` to the probability of keeping a node using dropout"
   ]
  },
  {
   "cell_type": "code",
   "execution_count": 10,
   "metadata": {
    "collapsed": true,
    "deletable": true,
    "editable": true
   },
   "outputs": [],
   "source": [
    "# TODO: Tune Parameters\n",
    "epochs = 50\n",
    "batch_size = 128\n",
    "keep_probability = .5"
   ]
  },
  {
   "cell_type": "markdown",
   "metadata": {
    "deletable": true,
    "editable": true
   },
   "source": [
    "### Train on a Single CIFAR-10 Batch\n",
    "Instead of training the neural network on all the CIFAR-10 batches of data, let's use a single batch. This should save time while you iterate on the model to get a better accuracy.  Once the final validation accuracy is 50% or greater, run the model on all the data in the next section."
   ]
  },
  {
   "cell_type": "code",
   "execution_count": 13,
   "metadata": {
    "collapsed": false,
    "deletable": true,
    "editable": true
   },
   "outputs": [
    {
     "name": "stdout",
     "output_type": "stream",
     "text": [
      "Checking the Training on a Single Batch...\n",
      "Epoch  1, CIFAR-10 Batch 1:  Training Loss is 2.22114 and validation accuracy is 0.2144\n",
      "Epoch  2, CIFAR-10 Batch 1:  Training Loss is 2.07115 and validation accuracy is 0.2954\n",
      "Epoch  3, CIFAR-10 Batch 1:  Training Loss is 1.82052 and validation accuracy is 0.3692\n",
      "Epoch  4, CIFAR-10 Batch 1:  Training Loss is 1.58576 and validation accuracy is 0.4038\n",
      "Epoch  5, CIFAR-10 Batch 1:  Training Loss is 1.48838 and validation accuracy is 0.4472\n",
      "Epoch  6, CIFAR-10 Batch 1:  Training Loss is 1.41487 and validation accuracy is 0.4578\n",
      "Epoch  7, CIFAR-10 Batch 1:  Training Loss is 1.20969 and validation accuracy is 0.4654\n",
      "Epoch  8, CIFAR-10 Batch 1:  Training Loss is 1.07037 and validation accuracy is 0.48\n",
      "Epoch  9, CIFAR-10 Batch 1:  Training Loss is 0.898515 and validation accuracy is 0.4954\n",
      "Epoch 10, CIFAR-10 Batch 1:  Training Loss is 0.74489 and validation accuracy is 0.4996\n",
      "Epoch 11, CIFAR-10 Batch 1:  Training Loss is 0.694412 and validation accuracy is 0.5046\n",
      "Epoch 12, CIFAR-10 Batch 1:  Training Loss is 0.551434 and validation accuracy is 0.5156\n",
      "Epoch 13, CIFAR-10 Batch 1:  Training Loss is 0.440644 and validation accuracy is 0.514\n",
      "Epoch 14, CIFAR-10 Batch 1:  Training Loss is 0.368513 and validation accuracy is 0.514\n",
      "Epoch 15, CIFAR-10 Batch 1:  Training Loss is 0.309078 and validation accuracy is 0.5176\n",
      "Epoch 16, CIFAR-10 Batch 1:  Training Loss is 0.201772 and validation accuracy is 0.5178\n",
      "Epoch 17, CIFAR-10 Batch 1:  Training Loss is 0.223502 and validation accuracy is 0.5224\n",
      "Epoch 18, CIFAR-10 Batch 1:  Training Loss is 0.14937 and validation accuracy is 0.5388\n",
      "Epoch 19, CIFAR-10 Batch 1:  Training Loss is 0.0672647 and validation accuracy is 0.5384\n",
      "Epoch 20, CIFAR-10 Batch 1:  Training Loss is 0.0613054 and validation accuracy is 0.5324\n",
      "Epoch 21, CIFAR-10 Batch 1:  Training Loss is 0.045919 and validation accuracy is 0.5378\n",
      "Epoch 22, CIFAR-10 Batch 1:  Training Loss is 0.0478252 and validation accuracy is 0.5312\n",
      "Epoch 23, CIFAR-10 Batch 1:  Training Loss is 0.0248759 and validation accuracy is 0.54\n",
      "Epoch 24, CIFAR-10 Batch 1:  Training Loss is 0.0150976 and validation accuracy is 0.5402\n",
      "Epoch 25, CIFAR-10 Batch 1:  Training Loss is 0.0168041 and validation accuracy is 0.5526\n",
      "Epoch 26, CIFAR-10 Batch 1:  Training Loss is 0.00925969 and validation accuracy is 0.5334\n",
      "Epoch 27, CIFAR-10 Batch 1:  Training Loss is 0.00742019 and validation accuracy is 0.5416\n",
      "Epoch 28, CIFAR-10 Batch 1:  Training Loss is 0.0144561 and validation accuracy is 0.5574\n",
      "Epoch 29, CIFAR-10 Batch 1:  Training Loss is 0.00628916 and validation accuracy is 0.5542\n",
      "Epoch 30, CIFAR-10 Batch 1:  Training Loss is 0.0138786 and validation accuracy is 0.5688\n",
      "Epoch 31, CIFAR-10 Batch 1:  Training Loss is 0.00734616 and validation accuracy is 0.5506\n",
      "Epoch 32, CIFAR-10 Batch 1:  Training Loss is 0.0139614 and validation accuracy is 0.5604\n",
      "Epoch 33, CIFAR-10 Batch 1:  Training Loss is 0.0103138 and validation accuracy is 0.549\n",
      "Epoch 34, CIFAR-10 Batch 1:  Training Loss is 0.0093995 and validation accuracy is 0.556\n",
      "Epoch 35, CIFAR-10 Batch 1:  Training Loss is 0.00954705 and validation accuracy is 0.5586\n",
      "Epoch 36, CIFAR-10 Batch 1:  Training Loss is 0.00278928 and validation accuracy is 0.5532\n",
      "Epoch 37, CIFAR-10 Batch 1:  Training Loss is 0.000816538 and validation accuracy is 0.5482\n",
      "Epoch 38, CIFAR-10 Batch 1:  Training Loss is 0.00165946 and validation accuracy is 0.5614\n",
      "Epoch 39, CIFAR-10 Batch 1:  Training Loss is 0.00169614 and validation accuracy is 0.567\n",
      "Epoch 40, CIFAR-10 Batch 1:  Training Loss is 0.000316986 and validation accuracy is 0.569\n",
      "Epoch 41, CIFAR-10 Batch 1:  Training Loss is 0.00289662 and validation accuracy is 0.5466\n",
      "Epoch 42, CIFAR-10 Batch 1:  Training Loss is 0.000421785 and validation accuracy is 0.5732\n",
      "Epoch 43, CIFAR-10 Batch 1:  Training Loss is 0.00667286 and validation accuracy is 0.548\n",
      "Epoch 44, CIFAR-10 Batch 1:  Training Loss is 0.00086203 and validation accuracy is 0.5702\n",
      "Epoch 45, CIFAR-10 Batch 1:  Training Loss is 0.00100614 and validation accuracy is 0.58\n",
      "Epoch 46, CIFAR-10 Batch 1:  Training Loss is 0.000222536 and validation accuracy is 0.5746\n",
      "Epoch 47, CIFAR-10 Batch 1:  Training Loss is 9.24161e-05 and validation accuracy is 0.5684\n",
      "Epoch 48, CIFAR-10 Batch 1:  Training Loss is 0.00115264 and validation accuracy is 0.5654\n",
      "Epoch 49, CIFAR-10 Batch 1:  Training Loss is 0.000336184 and validation accuracy is 0.575\n",
      "Epoch 50, CIFAR-10 Batch 1:  Training Loss is 0.000105504 and validation accuracy is 0.5734\n"
     ]
    }
   ],
   "source": [
    "\"\"\"\n",
    "DON'T MODIFY ANYTHING IN THIS CELL\n",
    "\"\"\"\n",
    "print('Checking the Training on a Single Batch...')\n",
    "with tf.Session() as sess:\n",
    "    # Initializing the variables\n",
    "    sess.run(tf.global_variables_initializer())\n",
    "    \n",
    "    # Training cycle\n",
    "    for epoch in range(epochs):\n",
    "        batch_i = 1\n",
    "        for batch_features, batch_labels in helper.load_preprocess_training_batch(batch_i, batch_size):\n",
    "            train_neural_network(sess, optimizer, keep_probability, batch_features, batch_labels)\n",
    "        print('Epoch {:>2}, CIFAR-10 Batch {}:  '.format(epoch + 1, batch_i), end='')\n",
    "        print_stats(sess, batch_features, batch_labels, cost, accuracy)"
   ]
  },
  {
   "cell_type": "markdown",
   "metadata": {
    "deletable": true,
    "editable": true
   },
   "source": [
    "### Fully Train the Model\n",
    "Now that you got a good accuracy with a single CIFAR-10 batch, try it with all five batches."
   ]
  },
  {
   "cell_type": "code",
   "execution_count": 14,
   "metadata": {
    "collapsed": false,
    "deletable": true,
    "editable": true
   },
   "outputs": [
    {
     "name": "stdout",
     "output_type": "stream",
     "text": [
      "Training...\n",
      "Epoch  1, CIFAR-10 Batch 1:  Training Loss is 2.2626 and validation accuracy is 0.1904\n",
      "Epoch  1, CIFAR-10 Batch 2:  Training Loss is 1.91898 and validation accuracy is 0.3046\n",
      "Epoch  1, CIFAR-10 Batch 3:  Training Loss is 1.54724 and validation accuracy is 0.3542\n",
      "Epoch  1, CIFAR-10 Batch 4:  Training Loss is 1.63365 and validation accuracy is 0.3916\n",
      "Epoch  1, CIFAR-10 Batch 5:  Training Loss is 1.65796 and validation accuracy is 0.4412\n",
      "Epoch  2, CIFAR-10 Batch 1:  Training Loss is 1.7043 and validation accuracy is 0.4702\n",
      "Epoch  2, CIFAR-10 Batch 2:  Training Loss is 1.44178 and validation accuracy is 0.4464\n",
      "Epoch  2, CIFAR-10 Batch 3:  Training Loss is 1.10901 and validation accuracy is 0.489\n",
      "Epoch  2, CIFAR-10 Batch 4:  Training Loss is 1.29585 and validation accuracy is 0.4996\n",
      "Epoch  2, CIFAR-10 Batch 5:  Training Loss is 1.32382 and validation accuracy is 0.534\n",
      "Epoch  3, CIFAR-10 Batch 1:  Training Loss is 1.49615 and validation accuracy is 0.5314\n",
      "Epoch  3, CIFAR-10 Batch 2:  Training Loss is 1.19504 and validation accuracy is 0.5286\n",
      "Epoch  3, CIFAR-10 Batch 3:  Training Loss is 0.931009 and validation accuracy is 0.5472\n",
      "Epoch  3, CIFAR-10 Batch 4:  Training Loss is 1.06771 and validation accuracy is 0.5678\n",
      "Epoch  3, CIFAR-10 Batch 5:  Training Loss is 1.14901 and validation accuracy is 0.571\n",
      "Epoch  4, CIFAR-10 Batch 1:  Training Loss is 1.1592 and validation accuracy is 0.5732\n",
      "Epoch  4, CIFAR-10 Batch 2:  Training Loss is 0.901233 and validation accuracy is 0.5714\n",
      "Epoch  4, CIFAR-10 Batch 3:  Training Loss is 0.771681 and validation accuracy is 0.59\n",
      "Epoch  4, CIFAR-10 Batch 4:  Training Loss is 0.832149 and validation accuracy is 0.599\n",
      "Epoch  4, CIFAR-10 Batch 5:  Training Loss is 0.889987 and validation accuracy is 0.6118\n",
      "Epoch  5, CIFAR-10 Batch 1:  Training Loss is 0.967153 and validation accuracy is 0.6038\n",
      "Epoch  5, CIFAR-10 Batch 2:  Training Loss is 0.713576 and validation accuracy is 0.6028\n",
      "Epoch  5, CIFAR-10 Batch 3:  Training Loss is 0.659031 and validation accuracy is 0.6166\n",
      "Epoch  5, CIFAR-10 Batch 4:  Training Loss is 0.593823 and validation accuracy is 0.631\n",
      "Epoch  5, CIFAR-10 Batch 5:  Training Loss is 0.658504 and validation accuracy is 0.6418\n",
      "Epoch  6, CIFAR-10 Batch 1:  Training Loss is 0.770021 and validation accuracy is 0.6188\n",
      "Epoch  6, CIFAR-10 Batch 2:  Training Loss is 0.529702 and validation accuracy is 0.6384\n",
      "Epoch  6, CIFAR-10 Batch 3:  Training Loss is 0.513548 and validation accuracy is 0.6498\n",
      "Epoch  6, CIFAR-10 Batch 4:  Training Loss is 0.401884 and validation accuracy is 0.6562\n",
      "Epoch  6, CIFAR-10 Batch 5:  Training Loss is 0.528016 and validation accuracy is 0.6554\n",
      "Epoch  7, CIFAR-10 Batch 1:  Training Loss is 0.561884 and validation accuracy is 0.632\n",
      "Epoch  7, CIFAR-10 Batch 2:  Training Loss is 0.416652 and validation accuracy is 0.6544\n",
      "Epoch  7, CIFAR-10 Batch 3:  Training Loss is 0.397647 and validation accuracy is 0.6414\n",
      "Epoch  7, CIFAR-10 Batch 4:  Training Loss is 0.298621 and validation accuracy is 0.6652\n",
      "Epoch  7, CIFAR-10 Batch 5:  Training Loss is 0.372596 and validation accuracy is 0.6618\n",
      "Epoch  8, CIFAR-10 Batch 1:  Training Loss is 0.514405 and validation accuracy is 0.6362\n",
      "Epoch  8, CIFAR-10 Batch 2:  Training Loss is 0.341458 and validation accuracy is 0.6514\n",
      "Epoch  8, CIFAR-10 Batch 3:  Training Loss is 0.271279 and validation accuracy is 0.6398\n",
      "Epoch  8, CIFAR-10 Batch 4:  Training Loss is 0.250009 and validation accuracy is 0.6534\n",
      "Epoch  8, CIFAR-10 Batch 5:  Training Loss is 0.303573 and validation accuracy is 0.6672\n",
      "Epoch  9, CIFAR-10 Batch 1:  Training Loss is 0.324778 and validation accuracy is 0.6686\n",
      "Epoch  9, CIFAR-10 Batch 2:  Training Loss is 0.231255 and validation accuracy is 0.6636\n",
      "Epoch  9, CIFAR-10 Batch 3:  Training Loss is 0.214508 and validation accuracy is 0.65\n",
      "Epoch  9, CIFAR-10 Batch 4:  Training Loss is 0.152209 and validation accuracy is 0.6756\n",
      "Epoch  9, CIFAR-10 Batch 5:  Training Loss is 0.247515 and validation accuracy is 0.681\n",
      "Epoch 10, CIFAR-10 Batch 1:  Training Loss is 0.254366 and validation accuracy is 0.677\n",
      "Epoch 10, CIFAR-10 Batch 2:  Training Loss is 0.140009 and validation accuracy is 0.6818\n",
      "Epoch 10, CIFAR-10 Batch 3:  Training Loss is 0.128278 and validation accuracy is 0.6642\n",
      "Epoch 10, CIFAR-10 Batch 4:  Training Loss is 0.136189 and validation accuracy is 0.6762\n",
      "Epoch 10, CIFAR-10 Batch 5:  Training Loss is 0.118087 and validation accuracy is 0.6808\n",
      "Epoch 11, CIFAR-10 Batch 1:  Training Loss is 0.18446 and validation accuracy is 0.6736\n",
      "Epoch 11, CIFAR-10 Batch 2:  Training Loss is 0.0707456 and validation accuracy is 0.6848\n",
      "Epoch 11, CIFAR-10 Batch 3:  Training Loss is 0.102294 and validation accuracy is 0.6754\n",
      "Epoch 11, CIFAR-10 Batch 4:  Training Loss is 0.1041 and validation accuracy is 0.6704\n",
      "Epoch 11, CIFAR-10 Batch 5:  Training Loss is 0.0898527 and validation accuracy is 0.6582\n",
      "Epoch 12, CIFAR-10 Batch 1:  Training Loss is 0.123487 and validation accuracy is 0.6794\n",
      "Epoch 12, CIFAR-10 Batch 2:  Training Loss is 0.056694 and validation accuracy is 0.6892\n",
      "Epoch 12, CIFAR-10 Batch 3:  Training Loss is 0.0556102 and validation accuracy is 0.684\n",
      "Epoch 12, CIFAR-10 Batch 4:  Training Loss is 0.0877814 and validation accuracy is 0.676\n",
      "Epoch 12, CIFAR-10 Batch 5:  Training Loss is 0.0435472 and validation accuracy is 0.678\n",
      "Epoch 13, CIFAR-10 Batch 1:  Training Loss is 0.101463 and validation accuracy is 0.669\n",
      "Epoch 13, CIFAR-10 Batch 2:  Training Loss is 0.0625148 and validation accuracy is 0.6786\n",
      "Epoch 13, CIFAR-10 Batch 3:  Training Loss is 0.103285 and validation accuracy is 0.6656\n",
      "Epoch 13, CIFAR-10 Batch 4:  Training Loss is 0.0741224 and validation accuracy is 0.6716\n",
      "Epoch 13, CIFAR-10 Batch 5:  Training Loss is 0.0269595 and validation accuracy is 0.6898\n",
      "Epoch 14, CIFAR-10 Batch 1:  Training Loss is 0.0706939 and validation accuracy is 0.6818\n",
      "Epoch 14, CIFAR-10 Batch 2:  Training Loss is 0.044912 and validation accuracy is 0.677\n",
      "Epoch 14, CIFAR-10 Batch 3:  Training Loss is 0.0388731 and validation accuracy is 0.6838\n",
      "Epoch 14, CIFAR-10 Batch 4:  Training Loss is 0.0671016 and validation accuracy is 0.6866\n",
      "Epoch 14, CIFAR-10 Batch 5:  Training Loss is 0.0298935 and validation accuracy is 0.7004\n",
      "Epoch 15, CIFAR-10 Batch 1:  Training Loss is 0.0339146 and validation accuracy is 0.6866\n",
      "Epoch 15, CIFAR-10 Batch 2:  Training Loss is 0.0538045 and validation accuracy is 0.6804\n",
      "Epoch 15, CIFAR-10 Batch 3:  Training Loss is 0.0254774 and validation accuracy is 0.6852\n",
      "Epoch 15, CIFAR-10 Batch 4:  Training Loss is 0.0635646 and validation accuracy is 0.6838\n",
      "Epoch 15, CIFAR-10 Batch 5:  Training Loss is 0.011428 and validation accuracy is 0.6926\n",
      "Epoch 16, CIFAR-10 Batch 1:  Training Loss is 0.0377688 and validation accuracy is 0.693\n",
      "Epoch 16, CIFAR-10 Batch 2:  Training Loss is 0.0353162 and validation accuracy is 0.6756\n",
      "Epoch 16, CIFAR-10 Batch 3:  Training Loss is 0.0232762 and validation accuracy is 0.6644\n",
      "Epoch 16, CIFAR-10 Batch 4:  Training Loss is 0.0356947 and validation accuracy is 0.693\n",
      "Epoch 16, CIFAR-10 Batch 5:  Training Loss is 0.0129385 and validation accuracy is 0.6916\n",
      "Epoch 17, CIFAR-10 Batch 1:  Training Loss is 0.0260529 and validation accuracy is 0.6862\n",
      "Epoch 17, CIFAR-10 Batch 2:  Training Loss is 0.0104355 and validation accuracy is 0.679\n",
      "Epoch 17, CIFAR-10 Batch 3:  Training Loss is 0.0113393 and validation accuracy is 0.6798\n",
      "Epoch 17, CIFAR-10 Batch 4:  Training Loss is 0.0470973 and validation accuracy is 0.6884\n",
      "Epoch 17, CIFAR-10 Batch 5:  Training Loss is 0.03158 and validation accuracy is 0.6998\n",
      "Epoch 18, CIFAR-10 Batch 1:  Training Loss is 0.041192 and validation accuracy is 0.686\n",
      "Epoch 18, CIFAR-10 Batch 2:  Training Loss is 0.0137398 and validation accuracy is 0.6898\n",
      "Epoch 18, CIFAR-10 Batch 3:  Training Loss is 0.00972088 and validation accuracy is 0.6798\n",
      "Epoch 18, CIFAR-10 Batch 4:  Training Loss is 0.0357043 and validation accuracy is 0.6962\n",
      "Epoch 18, CIFAR-10 Batch 5:  Training Loss is 0.00767203 and validation accuracy is 0.7012\n",
      "Epoch 19, CIFAR-10 Batch 1:  Training Loss is 0.0254278 and validation accuracy is 0.6908\n",
      "Epoch 19, CIFAR-10 Batch 2:  Training Loss is 0.0135056 and validation accuracy is 0.691\n",
      "Epoch 19, CIFAR-10 Batch 3:  Training Loss is 0.00926577 and validation accuracy is 0.6884\n",
      "Epoch 19, CIFAR-10 Batch 4:  Training Loss is 0.0106071 and validation accuracy is 0.707\n",
      "Epoch 19, CIFAR-10 Batch 5:  Training Loss is 0.0113035 and validation accuracy is 0.6856\n",
      "Epoch 20, CIFAR-10 Batch 1:  Training Loss is 0.0134199 and validation accuracy is 0.6862\n",
      "Epoch 20, CIFAR-10 Batch 2:  Training Loss is 0.0255342 and validation accuracy is 0.6814\n",
      "Epoch 20, CIFAR-10 Batch 3:  Training Loss is 0.00698713 and validation accuracy is 0.6962\n",
      "Epoch 20, CIFAR-10 Batch 4:  Training Loss is 0.0109609 and validation accuracy is 0.7014\n",
      "Epoch 20, CIFAR-10 Batch 5:  Training Loss is 0.00994624 and validation accuracy is 0.6796\n",
      "Epoch 21, CIFAR-10 Batch 1:  Training Loss is 0.0114174 and validation accuracy is 0.6898\n",
      "Epoch 21, CIFAR-10 Batch 2:  Training Loss is 0.00647228 and validation accuracy is 0.6996\n",
      "Epoch 21, CIFAR-10 Batch 3:  Training Loss is 0.00574297 and validation accuracy is 0.6998\n",
      "Epoch 21, CIFAR-10 Batch 4:  Training Loss is 0.0105822 and validation accuracy is 0.702\n",
      "Epoch 21, CIFAR-10 Batch 5:  Training Loss is 0.00522994 and validation accuracy is 0.6902\n",
      "Epoch 22, CIFAR-10 Batch 1:  Training Loss is 0.0130593 and validation accuracy is 0.6848\n",
      "Epoch 22, CIFAR-10 Batch 2:  Training Loss is 0.0100918 and validation accuracy is 0.7012\n",
      "Epoch 22, CIFAR-10 Batch 3:  Training Loss is 0.00114711 and validation accuracy is 0.701\n",
      "Epoch 22, CIFAR-10 Batch 4:  Training Loss is 0.0320522 and validation accuracy is 0.6972\n",
      "Epoch 22, CIFAR-10 Batch 5:  Training Loss is 0.0148257 and validation accuracy is 0.6782\n",
      "Epoch 23, CIFAR-10 Batch 1:  Training Loss is 0.00572747 and validation accuracy is 0.6942\n",
      "Epoch 23, CIFAR-10 Batch 2:  Training Loss is 0.0044819 and validation accuracy is 0.7022\n",
      "Epoch 23, CIFAR-10 Batch 3:  Training Loss is 0.00418467 and validation accuracy is 0.6972\n",
      "Epoch 23, CIFAR-10 Batch 4:  Training Loss is 0.0043477 and validation accuracy is 0.7042\n",
      "Epoch 23, CIFAR-10 Batch 5:  Training Loss is 0.0019386 and validation accuracy is 0.7124\n",
      "Epoch 24, CIFAR-10 Batch 1:  Training Loss is 0.00606212 and validation accuracy is 0.6944\n",
      "Epoch 24, CIFAR-10 Batch 2:  Training Loss is 0.00136287 and validation accuracy is 0.7014\n",
      "Epoch 24, CIFAR-10 Batch 3:  Training Loss is 0.00536646 and validation accuracy is 0.6888\n",
      "Epoch 24, CIFAR-10 Batch 4:  Training Loss is 0.00571765 and validation accuracy is 0.7028\n",
      "Epoch 24, CIFAR-10 Batch 5:  Training Loss is 0.00331045 and validation accuracy is 0.7016\n",
      "Epoch 25, CIFAR-10 Batch 1:  Training Loss is 0.00941211 and validation accuracy is 0.71\n",
      "Epoch 25, CIFAR-10 Batch 2:  Training Loss is 0.0010952 and validation accuracy is 0.7028\n",
      "Epoch 25, CIFAR-10 Batch 3:  Training Loss is 0.00258951 and validation accuracy is 0.7012\n",
      "Epoch 25, CIFAR-10 Batch 4:  Training Loss is 0.00267654 and validation accuracy is 0.707\n",
      "Epoch 25, CIFAR-10 Batch 5:  Training Loss is 0.00159311 and validation accuracy is 0.7032\n",
      "Epoch 26, CIFAR-10 Batch 1:  Training Loss is 0.0147433 and validation accuracy is 0.7164\n",
      "Epoch 26, CIFAR-10 Batch 2:  Training Loss is 0.000999074 and validation accuracy is 0.7044\n",
      "Epoch 26, CIFAR-10 Batch 3:  Training Loss is 0.00461868 and validation accuracy is 0.6976\n",
      "Epoch 26, CIFAR-10 Batch 4:  Training Loss is 0.0204706 and validation accuracy is 0.705\n",
      "Epoch 26, CIFAR-10 Batch 5:  Training Loss is 0.00217075 and validation accuracy is 0.7086\n",
      "Epoch 27, CIFAR-10 Batch 1:  Training Loss is 0.00334248 and validation accuracy is 0.7104\n",
      "Epoch 27, CIFAR-10 Batch 2:  Training Loss is 0.0013674 and validation accuracy is 0.6864\n",
      "Epoch 27, CIFAR-10 Batch 3:  Training Loss is 0.00601488 and validation accuracy is 0.6832\n",
      "Epoch 27, CIFAR-10 Batch 4:  Training Loss is 0.00693642 and validation accuracy is 0.7008\n",
      "Epoch 27, CIFAR-10 Batch 5:  Training Loss is 0.0021081 and validation accuracy is 0.705\n",
      "Epoch 28, CIFAR-10 Batch 1:  Training Loss is 0.00318448 and validation accuracy is 0.6972\n",
      "Epoch 28, CIFAR-10 Batch 2:  Training Loss is 0.00131978 and validation accuracy is 0.6942\n",
      "Epoch 28, CIFAR-10 Batch 3:  Training Loss is 0.00160652 and validation accuracy is 0.7008\n",
      "Epoch 28, CIFAR-10 Batch 4:  Training Loss is 0.00883741 and validation accuracy is 0.6926\n",
      "Epoch 28, CIFAR-10 Batch 5:  Training Loss is 0.00544293 and validation accuracy is 0.6994\n",
      "Epoch 29, CIFAR-10 Batch 1:  Training Loss is 0.000886693 and validation accuracy is 0.707\n",
      "Epoch 29, CIFAR-10 Batch 2:  Training Loss is 0.0038127 and validation accuracy is 0.7102\n",
      "Epoch 29, CIFAR-10 Batch 3:  Training Loss is 0.00180664 and validation accuracy is 0.6998\n",
      "Epoch 29, CIFAR-10 Batch 4:  Training Loss is 0.000901391 and validation accuracy is 0.7054\n",
      "Epoch 29, CIFAR-10 Batch 5:  Training Loss is 0.00110201 and validation accuracy is 0.707\n",
      "Epoch 30, CIFAR-10 Batch 1:  Training Loss is 0.00300666 and validation accuracy is 0.6984\n",
      "Epoch 30, CIFAR-10 Batch 2:  Training Loss is 0.00524248 and validation accuracy is 0.6864\n",
      "Epoch 30, CIFAR-10 Batch 3:  Training Loss is 0.00194612 and validation accuracy is 0.704\n",
      "Epoch 30, CIFAR-10 Batch 4:  Training Loss is 0.0015688 and validation accuracy is 0.7018\n",
      "Epoch 30, CIFAR-10 Batch 5:  Training Loss is 0.00313712 and validation accuracy is 0.7094\n",
      "Epoch 31, CIFAR-10 Batch 1:  Training Loss is 0.00131929 and validation accuracy is 0.7094\n",
      "Epoch 31, CIFAR-10 Batch 2:  Training Loss is 0.000276708 and validation accuracy is 0.7066\n",
      "Epoch 31, CIFAR-10 Batch 3:  Training Loss is 0.0021528 and validation accuracy is 0.6944\n",
      "Epoch 31, CIFAR-10 Batch 4:  Training Loss is 0.00371682 and validation accuracy is 0.7126\n",
      "Epoch 31, CIFAR-10 Batch 5:  Training Loss is 0.00154423 and validation accuracy is 0.7096\n",
      "Epoch 32, CIFAR-10 Batch 1:  Training Loss is 0.0104512 and validation accuracy is 0.7026\n",
      "Epoch 32, CIFAR-10 Batch 2:  Training Loss is 0.00258487 and validation accuracy is 0.7084\n",
      "Epoch 32, CIFAR-10 Batch 3:  Training Loss is 0.00508333 and validation accuracy is 0.705\n",
      "Epoch 32, CIFAR-10 Batch 4:  Training Loss is 0.0018757 and validation accuracy is 0.7074\n",
      "Epoch 32, CIFAR-10 Batch 5:  Training Loss is 0.00095736 and validation accuracy is 0.7114\n",
      "Epoch 33, CIFAR-10 Batch 1:  Training Loss is 0.000570416 and validation accuracy is 0.7038\n",
      "Epoch 33, CIFAR-10 Batch 2:  Training Loss is 0.000999465 and validation accuracy is 0.7\n",
      "Epoch 33, CIFAR-10 Batch 3:  Training Loss is 0.0024044 and validation accuracy is 0.7054\n",
      "Epoch 33, CIFAR-10 Batch 4:  Training Loss is 0.00321595 and validation accuracy is 0.703\n",
      "Epoch 33, CIFAR-10 Batch 5:  Training Loss is 0.00102482 and validation accuracy is 0.7218\n",
      "Epoch 34, CIFAR-10 Batch 1:  Training Loss is 0.00406921 and validation accuracy is 0.7012\n",
      "Epoch 34, CIFAR-10 Batch 2:  Training Loss is 0.00161126 and validation accuracy is 0.7042\n",
      "Epoch 34, CIFAR-10 Batch 3:  Training Loss is 0.00148726 and validation accuracy is 0.698\n",
      "Epoch 34, CIFAR-10 Batch 4:  Training Loss is 0.00113731 and validation accuracy is 0.7106\n",
      "Epoch 34, CIFAR-10 Batch 5:  Training Loss is 0.00425809 and validation accuracy is 0.718\n",
      "Epoch 35, CIFAR-10 Batch 1:  Training Loss is 0.000683467 and validation accuracy is 0.7096\n",
      "Epoch 35, CIFAR-10 Batch 2:  Training Loss is 0.00108266 and validation accuracy is 0.7038\n",
      "Epoch 35, CIFAR-10 Batch 3:  Training Loss is 0.00649846 and validation accuracy is 0.709\n",
      "Epoch 35, CIFAR-10 Batch 4:  Training Loss is 0.00346382 and validation accuracy is 0.7006\n",
      "Epoch 35, CIFAR-10 Batch 5:  Training Loss is 0.00132974 and validation accuracy is 0.7096\n",
      "Epoch 36, CIFAR-10 Batch 1:  Training Loss is 0.00249278 and validation accuracy is 0.7106\n",
      "Epoch 36, CIFAR-10 Batch 2:  Training Loss is 0.00160849 and validation accuracy is 0.7102\n",
      "Epoch 36, CIFAR-10 Batch 3:  Training Loss is 0.00271349 and validation accuracy is 0.7114\n",
      "Epoch 36, CIFAR-10 Batch 4:  Training Loss is 0.00112899 and validation accuracy is 0.7058\n",
      "Epoch 36, CIFAR-10 Batch 5:  Training Loss is 0.000831699 and validation accuracy is 0.707\n",
      "Epoch 37, CIFAR-10 Batch 1:  Training Loss is 0.00172135 and validation accuracy is 0.713\n",
      "Epoch 37, CIFAR-10 Batch 2:  Training Loss is 0.00322541 and validation accuracy is 0.699\n",
      "Epoch 37, CIFAR-10 Batch 3:  Training Loss is 0.0044069 and validation accuracy is 0.6968\n",
      "Epoch 37, CIFAR-10 Batch 4:  Training Loss is 0.00124059 and validation accuracy is 0.7108\n",
      "Epoch 37, CIFAR-10 Batch 5:  Training Loss is 0.00179326 and validation accuracy is 0.7086\n",
      "Epoch 38, CIFAR-10 Batch 1:  Training Loss is 0.00938459 and validation accuracy is 0.7156\n",
      "Epoch 38, CIFAR-10 Batch 2:  Training Loss is 0.00207079 and validation accuracy is 0.7026\n",
      "Epoch 38, CIFAR-10 Batch 3:  Training Loss is 0.00216582 and validation accuracy is 0.7076\n",
      "Epoch 38, CIFAR-10 Batch 4:  Training Loss is 0.000951726 and validation accuracy is 0.7106\n",
      "Epoch 38, CIFAR-10 Batch 5:  Training Loss is 0.00163057 and validation accuracy is 0.7246\n",
      "Epoch 39, CIFAR-10 Batch 1:  Training Loss is 0.000759085 and validation accuracy is 0.7168\n",
      "Epoch 39, CIFAR-10 Batch 2:  Training Loss is 0.000628248 and validation accuracy is 0.704\n",
      "Epoch 39, CIFAR-10 Batch 3:  Training Loss is 0.000859463 and validation accuracy is 0.713\n",
      "Epoch 39, CIFAR-10 Batch 4:  Training Loss is 0.00119827 and validation accuracy is 0.7054\n",
      "Epoch 39, CIFAR-10 Batch 5:  Training Loss is 0.000670691 and validation accuracy is 0.705\n",
      "Epoch 40, CIFAR-10 Batch 1:  Training Loss is 0.000736921 and validation accuracy is 0.7132\n",
      "Epoch 40, CIFAR-10 Batch 2:  Training Loss is 0.00379317 and validation accuracy is 0.7028\n",
      "Epoch 40, CIFAR-10 Batch 3:  Training Loss is 0.00059933 and validation accuracy is 0.7094\n",
      "Epoch 40, CIFAR-10 Batch 4:  Training Loss is 0.00221066 and validation accuracy is 0.7062\n",
      "Epoch 40, CIFAR-10 Batch 5:  Training Loss is 0.000427481 and validation accuracy is 0.7238\n",
      "Epoch 41, CIFAR-10 Batch 1:  Training Loss is 0.000148156 and validation accuracy is 0.7216\n",
      "Epoch 41, CIFAR-10 Batch 2:  Training Loss is 0.000534543 and validation accuracy is 0.712\n",
      "Epoch 41, CIFAR-10 Batch 3:  Training Loss is 0.0030627 and validation accuracy is 0.7164\n",
      "Epoch 41, CIFAR-10 Batch 4:  Training Loss is 0.00126544 and validation accuracy is 0.714\n",
      "Epoch 41, CIFAR-10 Batch 5:  Training Loss is 0.00282224 and validation accuracy is 0.713\n",
      "Epoch 42, CIFAR-10 Batch 1:  Training Loss is 0.000512587 and validation accuracy is 0.714\n",
      "Epoch 42, CIFAR-10 Batch 2:  Training Loss is 0.000638893 and validation accuracy is 0.721\n",
      "Epoch 42, CIFAR-10 Batch 3:  Training Loss is 0.000470766 and validation accuracy is 0.7152\n",
      "Epoch 42, CIFAR-10 Batch 4:  Training Loss is 0.000717449 and validation accuracy is 0.7144\n",
      "Epoch 42, CIFAR-10 Batch 5:  Training Loss is 0.00171156 and validation accuracy is 0.7196\n",
      "Epoch 43, CIFAR-10 Batch 1:  Training Loss is 0.000461771 and validation accuracy is 0.7154\n",
      "Epoch 43, CIFAR-10 Batch 2:  Training Loss is 0.00104384 and validation accuracy is 0.7162\n",
      "Epoch 43, CIFAR-10 Batch 3:  Training Loss is 0.00051847 and validation accuracy is 0.715\n",
      "Epoch 43, CIFAR-10 Batch 4:  Training Loss is 0.000977825 and validation accuracy is 0.7178\n",
      "Epoch 43, CIFAR-10 Batch 5:  Training Loss is 0.000786589 and validation accuracy is 0.7214\n",
      "Epoch 44, CIFAR-10 Batch 1:  Training Loss is 0.00130541 and validation accuracy is 0.7074\n",
      "Epoch 44, CIFAR-10 Batch 2:  Training Loss is 0.00289126 and validation accuracy is 0.7062\n",
      "Epoch 44, CIFAR-10 Batch 3:  Training Loss is 0.00407631 and validation accuracy is 0.7002\n",
      "Epoch 44, CIFAR-10 Batch 4:  Training Loss is 0.00375194 and validation accuracy is 0.716\n",
      "Epoch 44, CIFAR-10 Batch 5:  Training Loss is 0.000691577 and validation accuracy is 0.7224\n",
      "Epoch 45, CIFAR-10 Batch 1:  Training Loss is 0.00469966 and validation accuracy is 0.7094\n",
      "Epoch 45, CIFAR-10 Batch 2:  Training Loss is 0.00255441 and validation accuracy is 0.711\n",
      "Epoch 45, CIFAR-10 Batch 3:  Training Loss is 0.00127198 and validation accuracy is 0.7122\n",
      "Epoch 45, CIFAR-10 Batch 4:  Training Loss is 0.000519225 and validation accuracy is 0.7188\n",
      "Epoch 45, CIFAR-10 Batch 5:  Training Loss is 0.000915744 and validation accuracy is 0.7178\n",
      "Epoch 46, CIFAR-10 Batch 1:  Training Loss is 0.00248056 and validation accuracy is 0.7182\n",
      "Epoch 46, CIFAR-10 Batch 2:  Training Loss is 0.00163763 and validation accuracy is 0.7028\n",
      "Epoch 46, CIFAR-10 Batch 3:  Training Loss is 0.00210469 and validation accuracy is 0.703\n",
      "Epoch 46, CIFAR-10 Batch 4:  Training Loss is 0.000417042 and validation accuracy is 0.7172\n",
      "Epoch 46, CIFAR-10 Batch 5:  Training Loss is 0.00112456 and validation accuracy is 0.714\n",
      "Epoch 47, CIFAR-10 Batch 1:  Training Loss is 0.0013027 and validation accuracy is 0.7164\n",
      "Epoch 47, CIFAR-10 Batch 2:  Training Loss is 0.00129303 and validation accuracy is 0.7138\n",
      "Epoch 47, CIFAR-10 Batch 3:  Training Loss is 0.000676518 and validation accuracy is 0.7162\n",
      "Epoch 47, CIFAR-10 Batch 4:  Training Loss is 0.000673998 and validation accuracy is 0.7142\n",
      "Epoch 47, CIFAR-10 Batch 5:  Training Loss is 0.00345315 and validation accuracy is 0.7188\n",
      "Epoch 48, CIFAR-10 Batch 1:  Training Loss is 0.000690591 and validation accuracy is 0.7168\n",
      "Epoch 48, CIFAR-10 Batch 2:  Training Loss is 0.000672843 and validation accuracy is 0.715\n",
      "Epoch 48, CIFAR-10 Batch 3:  Training Loss is 0.000645549 and validation accuracy is 0.714\n",
      "Epoch 48, CIFAR-10 Batch 4:  Training Loss is 0.000882758 and validation accuracy is 0.7076\n",
      "Epoch 48, CIFAR-10 Batch 5:  Training Loss is 0.000789382 and validation accuracy is 0.7078\n",
      "Epoch 49, CIFAR-10 Batch 1:  Training Loss is 0.000426636 and validation accuracy is 0.717\n",
      "Epoch 49, CIFAR-10 Batch 2:  Training Loss is 0.000937706 and validation accuracy is 0.7164\n",
      "Epoch 49, CIFAR-10 Batch 3:  Training Loss is 0.000672168 and validation accuracy is 0.7124\n",
      "Epoch 49, CIFAR-10 Batch 4:  Training Loss is 0.000400204 and validation accuracy is 0.7144\n",
      "Epoch 49, CIFAR-10 Batch 5:  Training Loss is 0.00056943 and validation accuracy is 0.712\n",
      "Epoch 50, CIFAR-10 Batch 1:  Training Loss is 0.000112989 and validation accuracy is 0.7164\n",
      "Epoch 50, CIFAR-10 Batch 2:  Training Loss is 0.000259005 and validation accuracy is 0.7146\n",
      "Epoch 50, CIFAR-10 Batch 3:  Training Loss is 0.000207919 and validation accuracy is 0.7058\n",
      "Epoch 50, CIFAR-10 Batch 4:  Training Loss is 0.000147775 and validation accuracy is 0.7118\n",
      "Epoch 50, CIFAR-10 Batch 5:  Training Loss is 0.00185639 and validation accuracy is 0.7112\n"
     ]
    }
   ],
   "source": [
    "\"\"\"\n",
    "DON'T MODIFY ANYTHING IN THIS CELL\n",
    "\"\"\"\n",
    "save_model_path = './image_classification'\n",
    "\n",
    "print('Training...')\n",
    "with tf.Session() as sess:\n",
    "    # Initializing the variables\n",
    "    sess.run(tf.global_variables_initializer())\n",
    "    \n",
    "    # Training cycle\n",
    "    for epoch in range(epochs):\n",
    "        # Loop over all batches\n",
    "        n_batches = 5\n",
    "        for batch_i in range(1, n_batches + 1):\n",
    "            for batch_features, batch_labels in helper.load_preprocess_training_batch(batch_i, batch_size):\n",
    "                train_neural_network(sess, optimizer, keep_probability, batch_features, batch_labels)\n",
    "            print('Epoch {:>2}, CIFAR-10 Batch {}:  '.format(epoch + 1, batch_i), end='')\n",
    "            print_stats(sess, batch_features, batch_labels, cost, accuracy)\n",
    "            \n",
    "    # Save Model\n",
    "    saver = tf.train.Saver()\n",
    "    save_path = saver.save(sess, save_model_path)"
   ]
  },
  {
   "cell_type": "markdown",
   "metadata": {
    "deletable": true,
    "editable": true
   },
   "source": [
    "# Checkpoint\n",
    "The model has been saved to disk.\n",
    "## Test Model\n",
    "Test your model against the test dataset.  This will be your final accuracy. You should have an accuracy greater than 50%. If you don't, keep tweaking the model architecture and parameters."
   ]
  },
  {
   "cell_type": "code",
   "execution_count": 15,
   "metadata": {
    "collapsed": false,
    "deletable": true,
    "editable": true
   },
   "outputs": [
    {
     "name": "stdout",
     "output_type": "stream",
     "text": [
      "Testing Accuracy: 0.7086629746835443\n",
      "\n"
     ]
    },
    {
     "data": {
      "image/png": "[encoded data removed]",
      "text/plain": [
       "<matplotlib.figure.Figure at 0x7fe4eed8ff98>"
      ]
     },
     "metadata": {
      "image/png": {
       "height": 319,
       "width": 355
      }
     },
     "output_type": "display_data"
    }
   ],
   "source": [
    "\"\"\"\n",
    "DON'T MODIFY ANYTHING IN THIS CELL\n",
    "\"\"\"\n",
    "%matplotlib inline\n",
    "%config InlineBackend.figure_format = 'retina'\n",
    "\n",
    "import tensorflow as tf\n",
    "import pickle\n",
    "import helper\n",
    "import random\n",
    "\n",
    "# Set batch size if not already set\n",
    "try:\n",
    "    if batch_size:\n",
    "        pass\n",
    "except NameError:\n",
    "    batch_size = 64\n",
    "\n",
    "save_model_path = './image_classification'\n",
    "n_samples = 4\n",
    "top_n_predictions = 3\n",
    "\n",
    "def test_model():\n",
    "    \"\"\"\n",
    "    Test the saved model against the test dataset\n",
    "    \"\"\"\n",
    "\n",
    "    test_features, test_labels = pickle.load(open('preprocess_training.p', mode='rb'))\n",
    "    loaded_graph = tf.Graph()\n",
    "\n",
    "    with tf.Session(graph=loaded_graph) as sess:\n",
    "        # Load model\n",
    "        loader = tf.train.import_meta_graph(save_model_path + '.meta')\n",
    "        loader.restore(sess, save_model_path)\n",
    "\n",
    "        # Get Tensors from loaded model\n",
    "        loaded_x = loaded_graph.get_tensor_by_name('x:0')\n",
    "        loaded_y = loaded_graph.get_tensor_by_name('y:0')\n",
    "        loaded_keep_prob = loaded_graph.get_tensor_by_name('keep_prob:0')\n",
    "        loaded_logits = loaded_graph.get_tensor_by_name('logits:0')\n",
    "        loaded_acc = loaded_graph.get_tensor_by_name('accuracy:0')\n",
    "        \n",
    "        # Get accuracy in batches for memory limitations\n",
    "        test_batch_acc_total = 0\n",
    "        test_batch_count = 0\n",
    "        \n",
    "        for train_feature_batch, train_label_batch in helper.batch_features_labels(test_features, test_labels, batch_size):\n",
    "            test_batch_acc_total += sess.run(\n",
    "                loaded_acc,\n",
    "                feed_dict={loaded_x: train_feature_batch, loaded_y: train_label_batch, loaded_keep_prob: 1.0})\n",
    "            test_batch_count += 1\n",
    "\n",
    "        print('Testing Accuracy: {}\\n'.format(test_batch_acc_total/test_batch_count))\n",
    "\n",
    "        # Print Random Samples\n",
    "        random_test_features, random_test_labels = tuple(zip(*random.sample(list(zip(test_features, test_labels)), n_samples)))\n",
    "        random_test_predictions = sess.run(\n",
    "            tf.nn.top_k(tf.nn.softmax(loaded_logits), top_n_predictions),\n",
    "            feed_dict={loaded_x: random_test_features, loaded_y: random_test_labels, loaded_keep_prob: 1.0})\n",
    "        helper.display_image_predictions(random_test_features, random_test_labels, random_test_predictions)\n",
    "\n",
    "\n",
    "test_model()"
   ]
  },
  {
   "cell_type": "markdown",
   "metadata": {
    "deletable": true,
    "editable": true
   },
   "source": [
    "## Why 50-70% Accuracy?\n",
    "You might be wondering why you can't get an accuracy any higher. First things first, 50% isn't bad for a simple CNN.  Pure guessing would get you 10% accuracy. However, you might notice people are getting scores [well above 80%](http://rodrigob.github.io/are_we_there_yet/build/classification_datasets_results.html#43494641522d3130).  That's because we haven't taught you all there is to know about neural networks. We still need to cover a few more techniques.\n",
    "## Submitting This Project\n",
    "When submitting this project, make sure to run all the cells before saving the notebook.  Save the notebook file as \"dlnd_image_classification.ipynb\" and save it as a HTML file under \"File\" -> \"Download as\".  Include the \"helper.py\" and \"problem_unittests.py\" files in your submission."
   ]
  }
 ],
 "metadata": {
  "kernelspec": {
   "display_name": "Python 3",
   "language": "python",
   "name": "python3"
  },
  "language_info": {
   "codemirror_mode": {
    "name": "ipython",
    "version": 3
   },
   "file_extension": ".py",
   "mimetype": "text/x-python",
   "name": "python",
   "nbconvert_exporter": "python",
   "pygments_lexer": "ipython3",
   "version": "3.5.2"
  },
  "widgets": {
   "state": {},
   "version": "1.1.2"
  }
 },
 "nbformat": 4,
 "nbformat_minor": 0
}
