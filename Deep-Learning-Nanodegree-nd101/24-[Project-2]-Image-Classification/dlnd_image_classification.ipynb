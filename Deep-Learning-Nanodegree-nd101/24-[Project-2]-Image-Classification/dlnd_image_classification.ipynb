{
 "cells": [
  {
   "cell_type": "markdown",
   "metadata": {
    "collapsed": true,
    "deletable": true,
    "editable": true
   },
   "source": [
    "# Image Classification\n",
    "In this project, you'll classify images from the [CIFAR-10 dataset](https://www.cs.toronto.edu/~kriz/cifar.html).  The dataset consists of airplanes, dogs, cats, and other objects. You'll preprocess the images, then train a convolutional neural network on all the samples. The images need to be normalized and the labels need to be one-hot encoded.  You'll get to apply what you learned and build a convolutional, max pooling, dropout, and fully connected layers.  At the end, you'll get to see your neural network's predictions on the sample images.\n",
    "## Get the Data\n",
    "Run the following cell to download the [CIFAR-10 dataset for python](https://www.cs.toronto.edu/~kriz/cifar-10-python.tar.gz)."
   ]
  },
  {
   "cell_type": "code",
   "execution_count": 1,
   "metadata": {
    "collapsed": false,
    "deletable": true,
    "editable": true
   },
   "outputs": [
    {
     "name": "stdout",
     "output_type": "stream",
     "text": [
      "All files found!\n"
     ]
    }
   ],
   "source": [
    "\"\"\"\n",
    "DON'T MODIFY ANYTHING IN THIS CELL THAT IS BELOW THIS LINE\n",
    "\"\"\"\n",
    "from urllib.request import urlretrieve\n",
    "from os.path import isfile, isdir\n",
    "from tqdm import tqdm\n",
    "import problem_unittests as tests\n",
    "import tarfile\n",
    "\n",
    "cifar10_dataset_folder_path = 'cifar-10-batches-py'\n",
    "\n",
    "class DLProgress(tqdm):\n",
    "    last_block = 0\n",
    "\n",
    "    def hook(self, block_num=1, block_size=1, total_size=None):\n",
    "        self.total = total_size\n",
    "        self.update((block_num - self.last_block) * block_size)\n",
    "        self.last_block = block_num\n",
    "\n",
    "if not isfile('cifar-10-python.tar.gz'):\n",
    "    with DLProgress(unit='B', unit_scale=True, miniters=1, desc='CIFAR-10 Dataset') as pbar:\n",
    "        urlretrieve(\n",
    "            'https://www.cs.toronto.edu/~kriz/cifar-10-python.tar.gz',\n",
    "            'cifar-10-python.tar.gz',\n",
    "            pbar.hook)\n",
    "\n",
    "if not isdir(cifar10_dataset_folder_path):\n",
    "    with tarfile.open('cifar-10-python.tar.gz') as tar:\n",
    "        tar.extractall()\n",
    "        tar.close()\n",
    "\n",
    "\n",
    "tests.test_folder_path(cifar10_dataset_folder_path)"
   ]
  },
  {
   "cell_type": "markdown",
   "metadata": {
    "deletable": true,
    "editable": true
   },
   "source": [
    "## Explore the Data\n",
    "The dataset is broken into batches to prevent your machine from running out of memory.  The CIFAR-10 dataset consists of 5 batches, named `data_batch_1`, `data_batch_2`, etc.. Each batch contains the labels and images that are one of the following:\n",
    "* airplane\n",
    "* automobile\n",
    "* bird\n",
    "* cat\n",
    "* deer\n",
    "* dog\n",
    "* frog\n",
    "* horse\n",
    "* ship\n",
    "* truck\n",
    "\n",
    "Understanding a dataset is part of making predictions on the data.  Play around with the code cell below by changing the `batch_id` and `sample_id`. The `batch_id` is the id for a batch (1-5). The `sample_id` is the id for a image and label pair in the batch.\n",
    "\n",
    "Ask yourself \"What are all possible labels?\", \"What is the range of values for the image data?\", \"Are the labels in order or random?\".  Answers to questions like these will help you preprocess the data and end up with better predictions."
   ]
  },
  {
   "cell_type": "code",
   "execution_count": 2,
   "metadata": {
    "collapsed": false,
    "deletable": true,
    "editable": true
   },
   "outputs": [
    {
     "name": "stdout",
     "output_type": "stream",
     "text": [
      "\n",
      "Stats of batch 1:\n",
      "Samples: 10000\n",
      "Label Counts: {0: 1005, 1: 974, 2: 1032, 3: 1016, 4: 999, 5: 937, 6: 1030, 7: 1001, 8: 1025, 9: 981}\n",
      "First 20 Labels: [6, 9, 9, 4, 1, 1, 2, 7, 8, 3, 4, 7, 7, 2, 9, 9, 9, 3, 2, 6]\n",
      "\n",
      "Example of Image 6180:\n",
      "Image - Min Value: 17 Max Value: 236\n",
      "Image - Shape: (32, 32, 3)\n",
      "Label - Label Id: 4 Name: deer\n"
     ]
    },
    {
     "data": {
      "image/png": "[encoded data removed]",
      "text/plain": [
       "<matplotlib.figure.Figure at 0x7f7f406855c0>"
      ]
     },
     "metadata": {
      "image/png": {
       "height": 250,
       "width": 253
      }
     },
     "output_type": "display_data"
    }
   ],
   "source": [
    "%matplotlib inline\n",
    "%config InlineBackend.figure_format = 'retina'\n",
    "\n",
    "import helper\n",
    "import numpy as np\n",
    "\n",
    "# Explore the dataset\n",
    "batch_id = 1\n",
    "sample_id = 6180\n",
    "helper.display_stats(cifar10_dataset_folder_path, batch_id, sample_id)"
   ]
  },
  {
   "cell_type": "markdown",
   "metadata": {
    "deletable": true,
    "editable": true
   },
   "source": [
    "## Implement Preprocess Functions\n",
    "### Normalize\n",
    "In the cell below, implement the `normalize` function to take in image data, `x`, and return it as a normalized Numpy array. The values should be in the range of 0 to 1, inclusive.  The return object should be the same shape as `x`."
   ]
  },
  {
   "cell_type": "code",
   "execution_count": 4,
   "metadata": {
    "collapsed": false,
    "deletable": true,
    "editable": true
   },
   "outputs": [
    {
     "name": "stdout",
     "output_type": "stream",
     "text": [
      "Tests Passed\n"
     ]
    }
   ],
   "source": [
    "def normalize(x, a=0.0, b = 1.0):\n",
    "    \"\"\"\n",
    "    Normalize a list of sample image data in the range of 0 to 1\n",
    "    : x: List of image data.  The image shape is (32, 32, 3)\n",
    "    : return: Numpy array of normalize data\n",
    "    \"\"\"\n",
    "    # TODO: Implement Function\n",
    "    mean = np.mean(x)\n",
    "    std = np.std(x)\n",
    "    norm_x = (x - mean) / std\n",
    "    \n",
    "    norm_x_min = -3\n",
    "    norm_x_max =  3\n",
    "    return a + (norm_x - norm_x_min) * (b-a) / (norm_x_max - norm_x_min)\n",
    "\n",
    "\n",
    "\"\"\"\n",
    "DON'T MODIFY ANYTHING IN THIS CELL THAT IS BELOW THIS LINE\n",
    "\"\"\"\n",
    "tests.test_normalize(normalize)"
   ]
  },
  {
   "cell_type": "markdown",
   "metadata": {
    "deletable": true,
    "editable": true
   },
   "source": [
    "### One-hot encode\n",
    "Just like the previous code cell, you'll be implementing a function for preprocessing.  This time, you'll implement the `one_hot_encode` function. The input, `x`, are a list of labels.  Implement the function to return the list of labels as One-Hot encoded Numpy array.  The possible values for labels are 0 to 9. The one-hot encoding function should return the same encoding for each value between each call to `one_hot_encode`.  Make sure to save the map of encodings outside the function.\n",
    "\n",
    "Hint: Don't reinvent the wheel."
   ]
  },
  {
   "cell_type": "code",
   "execution_count": 5,
   "metadata": {
    "collapsed": false,
    "deletable": true,
    "editable": true
   },
   "outputs": [
    {
     "name": "stdout",
     "output_type": "stream",
     "text": [
      "Tests Passed\n"
     ]
    }
   ],
   "source": [
    "def one_hot_encode(x):\n",
    "    \"\"\"\n",
    "    One hot encode a list of sample labels. Return a one-hot encoded vector for each label.\n",
    "    : x: List of sample Labels\n",
    "    : return: Numpy array of one-hot encoded labels\n",
    "    \"\"\"\n",
    "    # TODO: Implement Function\n",
    "    one_hot_list = []\n",
    "    for i, label in enumerate(x):\n",
    "        vector = np.zeros(10, 'uint8')\n",
    "        vector[label] = 1        \n",
    "        one_hot_list.append(vector)\n",
    "        \n",
    "    return np.array(one_hot_list)\n",
    "\n",
    "\n",
    "\"\"\"\n",
    "DON'T MODIFY ANYTHING IN THIS CELL THAT IS BELOW THIS LINE\n",
    "\"\"\"\n",
    "tests.test_one_hot_encode(one_hot_encode)"
   ]
  },
  {
   "cell_type": "markdown",
   "metadata": {
    "deletable": true,
    "editable": true
   },
   "source": [
    "### Randomize Data\n",
    "As you saw from exploring the data above, the order of the samples are randomized.  It doesn't hurt to randomize it again, but you don't need to for this dataset."
   ]
  },
  {
   "cell_type": "markdown",
   "metadata": {
    "deletable": true,
    "editable": true
   },
   "source": [
    "## Preprocess all the data and save it\n",
    "Running the code cell below will preprocess all the CIFAR-10 data and save it to file. The code below also uses 10% of the training data for validation."
   ]
  },
  {
   "cell_type": "code",
   "execution_count": 6,
   "metadata": {
    "collapsed": false,
    "deletable": true,
    "editable": true
   },
   "outputs": [],
   "source": [
    "\"\"\"\n",
    "DON'T MODIFY ANYTHING IN THIS CELL\n",
    "\"\"\"\n",
    "# Preprocess Training, Validation, and Testing Data\n",
    "helper.preprocess_and_save_data(cifar10_dataset_folder_path, normalize, one_hot_encode)"
   ]
  },
  {
   "cell_type": "markdown",
   "metadata": {
    "deletable": true,
    "editable": true
   },
   "source": [
    "# Check Point\n",
    "This is your first checkpoint.  If you ever decide to come back to this notebook or have to restart the notebook, you can start from here.  The preprocessed data has been saved to disk."
   ]
  },
  {
   "cell_type": "code",
   "execution_count": 7,
   "metadata": {
    "collapsed": true,
    "deletable": true,
    "editable": true
   },
   "outputs": [],
   "source": [
    "\"\"\"\n",
    "DON'T MODIFY ANYTHING IN THIS CELL\n",
    "\"\"\"\n",
    "import pickle\n",
    "import problem_unittests as tests\n",
    "import helper\n",
    "\n",
    "# Load the Preprocessed Validation data\n",
    "valid_features, valid_labels = pickle.load(open('preprocess_validation.p', mode='rb'))"
   ]
  },
  {
   "cell_type": "markdown",
   "metadata": {
    "deletable": true,
    "editable": true
   },
   "source": [
    "## Build the network\n",
    "For the neural network, you'll build each layer into a function.  Most of the code you've seen has been outside of functions. To test your code more thoroughly, we require that you put each layer in a function.  This allows us to give you better feedback and test for simple mistakes using our unittests before you submit your project.\n",
    "\n",
    ">**Note:** If you're finding it hard to dedicate enough time for this course each week, we've provided a small shortcut to this part of the project. In the next couple of problems, you'll have the option to use classes from the [TensorFlow Layers](https://www.tensorflow.org/api_docs/python/tf/layers) or [TensorFlow Layers (contrib)](https://www.tensorflow.org/api_guides/python/contrib.layers) packages to build each layer, except the layers you build in the \"Convolutional and Max Pooling Layer\" section.  TF Layers is similar to Keras's and TFLearn's abstraction to layers, so it's easy to pickup.\n",
    "\n",
    ">However, if you would like to get the most out of this course, try to solve all the problems _without_ using anything from the TF Layers packages. You **can** still use classes from other packages that happen to have the same name as ones you find in TF Layers! For example, instead of using the TF Layers version of the `conv2d` class, [tf.layers.conv2d](https://www.tensorflow.org/api_docs/python/tf/layers/conv2d), you would want to use the TF Neural Network version of `conv2d`, [tf.nn.conv2d](https://www.tensorflow.org/api_docs/python/tf/nn/conv2d). \n",
    "\n",
    "Let's begin!\n",
    "\n",
    "### Input\n",
    "The neural network needs to read the image data, one-hot encoded labels, and dropout keep probability. Implement the following functions\n",
    "* Implement `neural_net_image_input`\n",
    " * Return a [TF Placeholder](https://www.tensorflow.org/api_docs/python/tf/placeholder)\n",
    " * Set the shape using `image_shape` with batch size set to `None`.\n",
    " * Name the TensorFlow placeholder \"x\" using the TensorFlow `name` parameter in the [TF Placeholder](https://www.tensorflow.org/api_docs/python/tf/placeholder).\n",
    "* Implement `neural_net_label_input`\n",
    " * Return a [TF Placeholder](https://www.tensorflow.org/api_docs/python/tf/placeholder)\n",
    " * Set the shape using `n_classes` with batch size set to `None`.\n",
    " * Name the TensorFlow placeholder \"y\" using the TensorFlow `name` parameter in the [TF Placeholder](https://www.tensorflow.org/api_docs/python/tf/placeholder).\n",
    "* Implement `neural_net_keep_prob_input`\n",
    " * Return a [TF Placeholder](https://www.tensorflow.org/api_docs/python/tf/placeholder) for dropout keep probability.\n",
    " * Name the TensorFlow placeholder \"keep_prob\" using the TensorFlow `name` parameter in the [TF Placeholder](https://www.tensorflow.org/api_docs/python/tf/placeholder).\n",
    "\n",
    "These names will be used at the end of the project to load your saved model.\n",
    "\n",
    "Note: `None` for shapes in TensorFlow allow for a dynamic size."
   ]
  },
  {
   "cell_type": "code",
   "execution_count": 8,
   "metadata": {
    "collapsed": false,
    "deletable": true,
    "editable": true
   },
   "outputs": [
    {
     "name": "stdout",
     "output_type": "stream",
     "text": [
      "Image Input Tests Passed.\n",
      "Label Input Tests Passed.\n",
      "Keep Prob Tests Passed.\n"
     ]
    }
   ],
   "source": [
    "import tensorflow as tf\n",
    "\n",
    "def neural_net_image_input(image_shape):\n",
    "    \"\"\"\n",
    "    Return a Tensor for a batch of image input\n",
    "    : image_shape: Shape of the images\n",
    "    : return: Tensor for image input.\n",
    "    \"\"\"\n",
    "    # TODO: Implement Function\n",
    "    return tf.placeholder(dtype = tf.float32,\n",
    "                          shape = (None,) + image_shape,\n",
    "                          name = \"x\")\n",
    "\n",
    "\n",
    "def neural_net_label_input(n_classes):\n",
    "    \"\"\"\n",
    "    Return a Tensor for a batch of label input\n",
    "    : n_classes: Number of classes\n",
    "    : return: Tensor for label input.\n",
    "    \"\"\"\n",
    "    # TODO: Implement Function\n",
    "    return tf.placeholder(dtype = tf.float32,\n",
    "                          shape = (None, n_classes),\n",
    "                          name = \"y\")\n",
    "\n",
    "\n",
    "def neural_net_keep_prob_input():\n",
    "    \"\"\"\n",
    "    Return a Tensor for keep probability\n",
    "    : return: Tensor for keep probability.\n",
    "    \"\"\"\n",
    "    # TODO: Implement Function\n",
    "    return tf.placeholder(dtype = tf.float32,\n",
    "                          name = \"keep_prob\")\n",
    "\n",
    "\n",
    "\"\"\"\n",
    "DON'T MODIFY ANYTHING IN THIS CELL THAT IS BELOW THIS LINE\n",
    "\"\"\"\n",
    "tf.reset_default_graph()\n",
    "tests.test_nn_image_inputs(neural_net_image_input)\n",
    "tests.test_nn_label_inputs(neural_net_label_input)\n",
    "tests.test_nn_keep_prob_inputs(neural_net_keep_prob_input)"
   ]
  },
  {
   "cell_type": "markdown",
   "metadata": {
    "deletable": true,
    "editable": true
   },
   "source": [
    "### Convolution and Max Pooling Layer\n",
    "Convolution layers have a lot of success with images. For this code cell, you should implement the function `conv2d_maxpool` to apply convolution then max pooling:\n",
    "* Create the weight and bias using `conv_ksize`, `conv_num_outputs` and the shape of `x_tensor`.\n",
    "* Apply a convolution to `x_tensor` using weight and `conv_strides`.\n",
    " * We recommend you use same padding, but you're welcome to use any padding.\n",
    "* Add bias\n",
    "* Add a nonlinear activation to the convolution.\n",
    "* Apply Max Pooling using `pool_ksize` and `pool_strides`.\n",
    " * We recommend you use same padding, but you're welcome to use any padding.\n",
    "\n",
    "**Note:** You **can't** use [TensorFlow Layers](https://www.tensorflow.org/api_docs/python/tf/layers) or [TensorFlow Layers (contrib)](https://www.tensorflow.org/api_guides/python/contrib.layers) for **this** layer, but you can still use TensorFlow's [Neural Network](https://www.tensorflow.org/api_docs/python/tf/nn) package. You may still use the shortcut option for all the **other** layers."
   ]
  },
  {
   "cell_type": "code",
   "execution_count": 9,
   "metadata": {
    "collapsed": false,
    "deletable": true,
    "editable": true
   },
   "outputs": [
    {
     "name": "stdout",
     "output_type": "stream",
     "text": [
      "Tests Passed\n"
     ]
    }
   ],
   "source": [
    "from math import ceil\n",
    "\n",
    "def new_weights(shape):\n",
    "    return tf.Variable(tf.truncated_normal(shape, mean=0,stddev=0.05))\n",
    "\n",
    "def new_biases(length):\n",
    "    return tf.Variable(tf.constant(0.1, shape=[length]))\n",
    "\n",
    "def conv2d_maxpool(x_tensor,\n",
    "                   conv_num_outputs, \n",
    "                   conv_ksize=(3, 3),\n",
    "                   conv_strides=(1, 1),\n",
    "                   pool_ksize=(2, 2),\n",
    "                   pool_strides=(2, 2),\n",
    "                   use_pool=True):\n",
    "    \"\"\"\n",
    "    Apply convolution then max pooling to x_tensor\n",
    "    :param x_tensor: TensorFlow Tensor\n",
    "    :param conv_num_outputs: Number of outputs for the convolutional layer\n",
    "    :param conv_ksize: kernal size 2-D Tuple for the convolutional layer\n",
    "    :param conv_strides: Stride 2-D Tuple for convolution\n",
    "    :param pool_ksize: kernal size 2-D Tuple for pool\n",
    "    :param pool_strides: Stride 2-D Tuple for pool\n",
    "    : return: A tensor that represents convolution and max pooling of x_tensor\n",
    "    \"\"\"\n",
    "    # TODO: Implement Function\n",
    "    padding = 'SAME'\n",
    "    _, in_height, in_width, in_channels = x_tensor.get_shape().as_list()\n",
    "    \n",
    "    strides = (1,)+conv_strides+(1,)\n",
    "    kernel_height, kernel_width = conv_ksize\n",
    "    \n",
    "    shape = [kernel_height, kernel_width, in_channels, conv_num_outputs]\n",
    "    F_W = new_weights(shape)\n",
    "    F_b = new_biases(conv_num_outputs)\n",
    "    \n",
    "    layer = tf.nn.conv2d(x_tensor, F_W, strides, padding)\n",
    "    layer = tf.nn.bias_add(layer, F_b)\n",
    "    \n",
    "    if use_pool:\n",
    "        ksize = (1,)+pool_ksize+(1,)\n",
    "        strides = (1,)+pool_strides+(1,)\n",
    "        layer = tf.nn.max_pool(layer, ksize, strides, padding)\n",
    "    \n",
    "    layer = tf.nn.relu(layer)\n",
    "    \n",
    "    return layer\n",
    "\n",
    "\n",
    "\"\"\"\n",
    "DON'T MODIFY ANYTHING IN THIS CELL THAT IS BELOW THIS LINE\n",
    "\"\"\"\n",
    "tests.test_con_pool(conv2d_maxpool)"
   ]
  },
  {
   "cell_type": "markdown",
   "metadata": {
    "deletable": true,
    "editable": true
   },
   "source": [
    "### Flatten Layer\n",
    "Implement the `flatten` function to change the dimension of `x_tensor` from a 4-D tensor to a 2-D tensor.  The output should be the shape (*Batch Size*, *Flattened Image Size*). Shortcut option: you can use classes from the [TensorFlow Layers](https://www.tensorflow.org/api_docs/python/tf/layers) or [TensorFlow Layers (contrib)](https://www.tensorflow.org/api_guides/python/contrib.layers) packages for this layer. For more of a challenge, only use other TensorFlow packages."
   ]
  },
  {
   "cell_type": "code",
   "execution_count": 10,
   "metadata": {
    "collapsed": false,
    "deletable": true,
    "editable": true
   },
   "outputs": [
    {
     "name": "stdout",
     "output_type": "stream",
     "text": [
      "Tests Passed\n"
     ]
    }
   ],
   "source": [
    "def flatten(x_tensor):\n",
    "    \"\"\"\n",
    "    Flatten x_tensor to (Batch Size, Flattened Image Size)\n",
    "    : x_tensor: A tensor of size (Batch Size, ...), where ... are the image dimensions.\n",
    "    : return: A tensor of size (Batch Size, Flattened Image Size).\n",
    "    \"\"\"\n",
    "    # TODO: Implement Function\n",
    "    ## return tf.contrib.layers.flatten(x_tensor)\n",
    "    # shape = x_tensor.get_shape().as_list()\n",
    "    # volume = shape[1] * shape[2] * shape[3]\n",
    "    # return tf.reshape(x_tensor, [-1, volume])\n",
    "    num_features = x_tensor.get_shape()[1:4].num_elements()\n",
    "    return tf.reshape(x_tensor, [-1, num_features])\n",
    "\n",
    "\n",
    "\"\"\"\n",
    "DON'T MODIFY ANYTHING IN THIS CELL THAT IS BELOW THIS LINE\n",
    "\"\"\"\n",
    "tests.test_flatten(flatten)"
   ]
  },
  {
   "cell_type": "markdown",
   "metadata": {
    "deletable": true,
    "editable": true
   },
   "source": [
    "### Fully-Connected Layer\n",
    "Implement the `fully_conn` function to apply a fully connected layer to `x_tensor` with the shape (*Batch Size*, *num_outputs*). Shortcut option: you can use classes from the [TensorFlow Layers](https://www.tensorflow.org/api_docs/python/tf/layers) or [TensorFlow Layers (contrib)](https://www.tensorflow.org/api_guides/python/contrib.layers) packages for this layer. For more of a challenge, only use other TensorFlow packages."
   ]
  },
  {
   "cell_type": "code",
   "execution_count": 11,
   "metadata": {
    "collapsed": false,
    "deletable": true,
    "editable": true
   },
   "outputs": [
    {
     "name": "stdout",
     "output_type": "stream",
     "text": [
      "Tests Passed\n"
     ]
    }
   ],
   "source": [
    "def fully_conn(x_tensor, num_outputs, use_relu=True):\n",
    "    \"\"\"\n",
    "    Apply a fully connected layer to x_tensor using weight and bias\n",
    "    : x_tensor: A 2-D tensor where the first dimension is batch size.\n",
    "    : num_outputs: The number of output that the new tensor should be.\n",
    "    : return: A 2-D tensor where the second dimension is num_outputs.\n",
    "    \"\"\"\n",
    "    # TODO: Implement Function\n",
    "    \n",
    "    _, num_inputs = x_tensor.get_shape().as_list()\n",
    "    \n",
    "    weights = new_weights([num_inputs, num_outputs])\n",
    "    biases = new_biases(num_outputs)\n",
    "\n",
    "    layer = tf.matmul(x_tensor, weights) + biases\n",
    "    \n",
    "    if use_relu:\n",
    "        layer = tf.nn.relu(layer)\n",
    "    \n",
    "    return layer\n",
    "\n",
    "\n",
    "\"\"\"\n",
    "DON'T MODIFY ANYTHING IN THIS CELL THAT IS BELOW THIS LINE\n",
    "\"\"\"\n",
    "tests.test_fully_conn(fully_conn)"
   ]
  },
  {
   "cell_type": "markdown",
   "metadata": {
    "deletable": true,
    "editable": true
   },
   "source": [
    "### Output Layer\n",
    "Implement the `output` function to apply a fully connected layer to `x_tensor` with the shape (*Batch Size*, *num_outputs*). Shortcut option: you can use classes from the [TensorFlow Layers](https://www.tensorflow.org/api_docs/python/tf/layers) or [TensorFlow Layers (contrib)](https://www.tensorflow.org/api_guides/python/contrib.layers) packages for this layer. For more of a challenge, only use other TensorFlow packages.\n",
    "\n",
    "**Note:** Activation, softmax, or cross entropy should **not** be applied to this."
   ]
  },
  {
   "cell_type": "code",
   "execution_count": 12,
   "metadata": {
    "collapsed": false,
    "deletable": true,
    "editable": true
   },
   "outputs": [
    {
     "name": "stdout",
     "output_type": "stream",
     "text": [
      "Tests Passed\n"
     ]
    }
   ],
   "source": [
    "def output(x_tensor, num_outputs):\n",
    "    \"\"\"\n",
    "    Apply a output layer to x_tensor using weight and bias\n",
    "    : x_tensor: A 2-D tensor where the first dimension is batch size.\n",
    "    : num_outputs: The number of output that the new tensor should be.\n",
    "    : return: A 2-D tensor where the second dimension is num_outputs.\n",
    "    \"\"\"\n",
    "    # TODO: Implement Function\n",
    "    return fully_conn(x_tensor = x_tensor,\n",
    "                      num_outputs = num_outputs, \n",
    "                      use_relu = False)\n",
    "\n",
    "\n",
    "\"\"\"\n",
    "DON'T MODIFY ANYTHING IN THIS CELL THAT IS BELOW THIS LINE\n",
    "\"\"\"\n",
    "tests.test_output(output)"
   ]
  },
  {
   "cell_type": "markdown",
   "metadata": {
    "deletable": true,
    "editable": true
   },
   "source": [
    "### Create Convolutional Model\n",
    "Implement the function `conv_net` to create a convolutional neural network model. The function takes in a batch of images, `x`, and outputs logits.  Use the layers you created above to create this model:\n",
    "\n",
    "* Apply 1, 2, or 3 Convolution and Max Pool layers\n",
    "* Apply a Flatten Layer\n",
    "* Apply 1, 2, or 3 Fully Connected Layers\n",
    "* Apply an Output Layer\n",
    "* Return the output\n",
    "* Apply [TensorFlow's Dropout](https://www.tensorflow.org/api_docs/python/tf/nn/dropout) to one or more layers in the model using `keep_prob`. "
   ]
  },
  {
   "cell_type": "code",
   "execution_count": 13,
   "metadata": {
    "collapsed": false,
    "deletable": true,
    "editable": true
   },
   "outputs": [
    {
     "name": "stdout",
     "output_type": "stream",
     "text": [
      "Tensor(\"Reshape:0\", shape=(?, 16384), dtype=float32)\n",
      "Tensor(\"Reshape_4:0\", shape=(?, 16384), dtype=float32)\n",
      "Neural Network Built!\n"
     ]
    }
   ],
   "source": [
    "def conv_net(x, keep_prob):\n",
    "    \"\"\"\n",
    "    Create a convolutional neural network model\n",
    "    : x: Placeholder tensor that holds image data.\n",
    "    : keep_prob: Placeholder tensor that hold dropout keep probability.\n",
    "    : return: Tensor that represents logits\n",
    "    \"\"\"\n",
    "    # TODO: Apply 1, 2, or 3 Convolution and Max Pool layers\n",
    "    #    Play around with different number of outputs, kernel size and stride\n",
    "    # Function Definition from Above:\n",
    "    #    conv2d_maxpool(x_tensor, conv_num_outputs, conv_ksize, conv_strides, pool_ksize, pool_strides)\n",
    "    layer = conv2d_maxpool(x_tensor = x,\n",
    "                           conv_num_outputs = 16,\n",
    "                           use_pool=False)\n",
    "    layer = conv2d_maxpool(x_tensor = x,\n",
    "                           conv_num_outputs = 16,\n",
    "                           use_pool=True)\n",
    "    layer = conv2d_maxpool(x_tensor = x,\n",
    "                           conv_num_outputs = 32,\n",
    "                           use_pool=True)\n",
    "    layer = conv2d_maxpool(x_tensor = x,\n",
    "                           conv_num_outputs = 64,\n",
    "                           use_pool=True)\n",
    "\n",
    "    # TODO: Apply a Flatten Layer\n",
    "    # Function Definition from Above:\n",
    "    #   flatten(x_tensor)\n",
    "    layer = flatten(layer)\n",
    "    print(layer)\n",
    "\n",
    "    # TODO: Apply 1, 2, or 3 Fully Connected Layers\n",
    "    #    Play around with different number of outputs\n",
    "    # Function Definition from Above:\n",
    "    #   fully_conn(x_tensor, num_outputs)\n",
    "    layer = fully_conn(x_tensor = layer, \n",
    "                       num_outputs = 2048)\n",
    "    layer = tf.nn.dropout(x= layer, keep_prob= keep_prob)\n",
    "    \n",
    "    layer = fully_conn(x_tensor = layer, \n",
    "                       num_outputs = 256)\n",
    "    layer = tf.nn.dropout(x= layer, keep_prob= keep_prob)\n",
    "    \n",
    "    layer = fully_conn(x_tensor = layer, \n",
    "                       num_outputs = 64)\n",
    "    \n",
    "    \n",
    "    # TODO: Apply an Output Layer\n",
    "    #    Set this to the number of classes\n",
    "    # Function Definition from Above:\n",
    "    #   output(x_tensor, num_outputs)\n",
    "    \n",
    "    \n",
    "    # TODO: return output\n",
    "    return output(layer, 10)\n",
    "\n",
    "\n",
    "\"\"\"\n",
    "DON'T MODIFY ANYTHING IN THIS CELL THAT IS BELOW THIS LINE\n",
    "\"\"\"\n",
    "\n",
    "##############################\n",
    "## Build the Neural Network ##\n",
    "##############################\n",
    "\n",
    "# Remove previous weights, bias, inputs, etc..\n",
    "tf.reset_default_graph()\n",
    "\n",
    "# Inputs\n",
    "x = neural_net_image_input((32, 32, 3))\n",
    "y = neural_net_label_input(10)\n",
    "keep_prob = neural_net_keep_prob_input()\n",
    "\n",
    "# Model\n",
    "logits = conv_net(x, keep_prob)\n",
    "\n",
    "# Name logits Tensor, so that is can be loaded from disk after training\n",
    "logits = tf.identity(logits, name='logits')\n",
    "\n",
    "# Loss and Optimizer\n",
    "cost = tf.reduce_mean(tf.nn.softmax_cross_entropy_with_logits(logits=logits, labels=y))\n",
    "optimizer = tf.train.AdamOptimizer().minimize(cost)\n",
    "\n",
    "# Accuracy\n",
    "correct_pred = tf.equal(tf.argmax(logits, 1), tf.argmax(y, 1))\n",
    "accuracy = tf.reduce_mean(tf.cast(correct_pred, tf.float32), name='accuracy')\n",
    "\n",
    "tests.test_conv_net(conv_net)"
   ]
  },
  {
   "cell_type": "markdown",
   "metadata": {
    "deletable": true,
    "editable": true
   },
   "source": [
    "## Train the Neural Network\n",
    "### Single Optimization\n",
    "Implement the function `train_neural_network` to do a single optimization.  The optimization should use `optimizer` to optimize in `session` with a `feed_dict` of the following:\n",
    "* `x` for image input\n",
    "* `y` for labels\n",
    "* `keep_prob` for keep probability for dropout\n",
    "\n",
    "This function will be called for each batch, so `tf.global_variables_initializer()` has already been called.\n",
    "\n",
    "Note: Nothing needs to be returned. This function is only optimizing the neural network."
   ]
  },
  {
   "cell_type": "code",
   "execution_count": 14,
   "metadata": {
    "collapsed": false,
    "deletable": true,
    "editable": true
   },
   "outputs": [
    {
     "name": "stdout",
     "output_type": "stream",
     "text": [
      "Tests Passed\n"
     ]
    }
   ],
   "source": [
    "def train_neural_network(session, optimizer, keep_probability, feature_batch, label_batch):\n",
    "    \"\"\"\n",
    "    Optimize the session on a batch of images and labels\n",
    "    : session: Current TensorFlow session\n",
    "    : optimizer: TensorFlow optimizer function\n",
    "    : keep_probability: keep probability\n",
    "    : feature_batch: Batch of Numpy image data\n",
    "    : label_batch: Batch of Numpy label data\n",
    "    \"\"\"\n",
    "    # TODO: Implement Function\n",
    "    session.run(optimizer, feed_dict={x: feature_batch, y: label_batch, keep_prob: keep_probability})\n",
    "\n",
    "\n",
    "\"\"\"\n",
    "DON'T MODIFY ANYTHING IN THIS CELL THAT IS BELOW THIS LINE\n",
    "\"\"\"\n",
    "tests.test_train_nn(train_neural_network)"
   ]
  },
  {
   "cell_type": "markdown",
   "metadata": {
    "deletable": true,
    "editable": true
   },
   "source": [
    "### Show Stats\n",
    "Implement the function `print_stats` to print loss and validation accuracy.  Use the global variables `valid_features` and `valid_labels` to calculate validation accuracy.  Use a keep probability of `1.0` to calculate the loss and validation accuracy."
   ]
  },
  {
   "cell_type": "code",
   "execution_count": 15,
   "metadata": {
    "collapsed": false,
    "deletable": true,
    "editable": true
   },
   "outputs": [],
   "source": [
    "def print_stats(session, feature_batch, label_batch, cost, accuracy):\n",
    "    \"\"\"\n",
    "    Print information about loss and validation accuracy\n",
    "    : session: Current TensorFlow session\n",
    "    : feature_batch: Batch of Numpy image data\n",
    "    : label_batch: Batch of Numpy label data\n",
    "    : cost: TensorFlow cost function\n",
    "    : accuracy: TensorFlow accuracy function\n",
    "    \"\"\"\n",
    "    loss = session.run(cost, feed_dict={x: feature_batch, y: label_batch, keep_prob: 1.0})\n",
    "    valid_acc = session.run(accuracy, feed_dict={x: valid_features, y: valid_labels, keep_prob: 1.0})\n",
    "    print(\"Training Loss is\", loss, \"and validation accuracy is\", valid_acc,)\n",
    "    "
   ]
  },
  {
   "cell_type": "markdown",
   "metadata": {
    "deletable": true,
    "editable": true
   },
   "source": [
    "### Hyperparameters\n",
    "Tune the following parameters:\n",
    "* Set `epochs` to the number of iterations until the network stops learning or start overfitting\n",
    "* Set `batch_size` to the highest number that your machine has memory for.  Most people set them to common sizes of memory:\n",
    " * 64\n",
    " * 128\n",
    " * 256\n",
    " * ...\n",
    "* Set `keep_probability` to the probability of keeping a node using dropout"
   ]
  },
  {
   "cell_type": "code",
   "execution_count": 17,
   "metadata": {
    "collapsed": true,
    "deletable": true,
    "editable": true
   },
   "outputs": [],
   "source": [
    "# TODO: Tune Parameters\n",
    "epochs = 50\n",
    "batch_size = 256\n",
    "keep_probability = .7"
   ]
  },
  {
   "cell_type": "markdown",
   "metadata": {
    "deletable": true,
    "editable": true
   },
   "source": [
    "### Train on a Single CIFAR-10 Batch\n",
    "Instead of training the neural network on all the CIFAR-10 batches of data, let's use a single batch. This should save time while you iterate on the model to get a better accuracy.  Once the final validation accuracy is 50% or greater, run the model on all the data in the next section."
   ]
  },
  {
   "cell_type": "code",
   "execution_count": 18,
   "metadata": {
    "collapsed": false,
    "deletable": true,
    "editable": true
   },
   "outputs": [
    {
     "name": "stdout",
     "output_type": "stream",
     "text": [
      "Checking the Training on a Single Batch...\n",
      "Epoch  1, CIFAR-10 Batch 1:  Training Loss is 2.16989 and validation accuracy is 0.2354\n",
      "Epoch  2, CIFAR-10 Batch 1:  Training Loss is 2.01723 and validation accuracy is 0.3094\n",
      "Epoch  3, CIFAR-10 Batch 1:  Training Loss is 1.87648 and validation accuracy is 0.354\n",
      "Epoch  4, CIFAR-10 Batch 1:  Training Loss is 1.77324 and validation accuracy is 0.4148\n",
      "Epoch  5, CIFAR-10 Batch 1:  Training Loss is 1.54345 and validation accuracy is 0.4464\n",
      "Epoch  6, CIFAR-10 Batch 1:  Training Loss is 1.29991 and validation accuracy is 0.4746\n",
      "Epoch  7, CIFAR-10 Batch 1:  Training Loss is 1.10151 and validation accuracy is 0.4852\n",
      "Epoch  8, CIFAR-10 Batch 1:  Training Loss is 0.960761 and validation accuracy is 0.4878\n",
      "Epoch  9, CIFAR-10 Batch 1:  Training Loss is 0.838205 and validation accuracy is 0.4942\n",
      "Epoch 10, CIFAR-10 Batch 1:  Training Loss is 0.735642 and validation accuracy is 0.516\n",
      "Epoch 11, CIFAR-10 Batch 1:  Training Loss is 0.630069 and validation accuracy is 0.5242\n",
      "Epoch 12, CIFAR-10 Batch 1:  Training Loss is 0.552851 and validation accuracy is 0.4864\n",
      "Epoch 13, CIFAR-10 Batch 1:  Training Loss is 0.507392 and validation accuracy is 0.5008\n",
      "Epoch 14, CIFAR-10 Batch 1:  Training Loss is 0.449375 and validation accuracy is 0.5064\n",
      "Epoch 15, CIFAR-10 Batch 1:  Training Loss is 0.332279 and validation accuracy is 0.5078\n",
      "Epoch 16, CIFAR-10 Batch 1:  Training Loss is 0.208479 and validation accuracy is 0.5342\n",
      "Epoch 17, CIFAR-10 Batch 1:  Training Loss is 0.204676 and validation accuracy is 0.5288\n",
      "Epoch 18, CIFAR-10 Batch 1:  Training Loss is 0.172479 and validation accuracy is 0.5434\n",
      "Epoch 19, CIFAR-10 Batch 1:  Training Loss is 0.0924382 and validation accuracy is 0.5382\n",
      "Epoch 20, CIFAR-10 Batch 1:  Training Loss is 0.0803106 and validation accuracy is 0.5286\n",
      "Epoch 21, CIFAR-10 Batch 1:  Training Loss is 0.0617808 and validation accuracy is 0.5352\n",
      "Epoch 22, CIFAR-10 Batch 1:  Training Loss is 0.0298651 and validation accuracy is 0.5376\n",
      "Epoch 23, CIFAR-10 Batch 1:  Training Loss is 0.0218825 and validation accuracy is 0.5408\n",
      "Epoch 24, CIFAR-10 Batch 1:  Training Loss is 0.0149142 and validation accuracy is 0.5406\n",
      "Epoch 25, CIFAR-10 Batch 1:  Training Loss is 0.00910566 and validation accuracy is 0.5472\n",
      "Epoch 26, CIFAR-10 Batch 1:  Training Loss is 0.0027378 and validation accuracy is 0.5448\n",
      "Epoch 27, CIFAR-10 Batch 1:  Training Loss is 0.00958075 and validation accuracy is 0.5492\n",
      "Epoch 28, CIFAR-10 Batch 1:  Training Loss is 0.00195774 and validation accuracy is 0.5604\n",
      "Epoch 29, CIFAR-10 Batch 1:  Training Loss is 0.00244242 and validation accuracy is 0.5446\n",
      "Epoch 30, CIFAR-10 Batch 1:  Training Loss is 0.00132817 and validation accuracy is 0.5538\n",
      "Epoch 31, CIFAR-10 Batch 1:  Training Loss is 0.00427415 and validation accuracy is 0.553\n",
      "Epoch 32, CIFAR-10 Batch 1:  Training Loss is 0.00138329 and validation accuracy is 0.5492\n",
      "Epoch 33, CIFAR-10 Batch 1:  Training Loss is 0.00292798 and validation accuracy is 0.5532\n",
      "Epoch 34, CIFAR-10 Batch 1:  Training Loss is 0.000218868 and validation accuracy is 0.5512\n",
      "Epoch 35, CIFAR-10 Batch 1:  Training Loss is 0.000443249 and validation accuracy is 0.5542\n",
      "Epoch 36, CIFAR-10 Batch 1:  Training Loss is 0.00130614 and validation accuracy is 0.5476\n",
      "Epoch 37, CIFAR-10 Batch 1:  Training Loss is 0.000747907 and validation accuracy is 0.5402\n",
      "Epoch 38, CIFAR-10 Batch 1:  Training Loss is 0.000293159 and validation accuracy is 0.5434\n",
      "Epoch 39, CIFAR-10 Batch 1:  Training Loss is 0.000223761 and validation accuracy is 0.55\n",
      "Epoch 40, CIFAR-10 Batch 1:  Training Loss is 0.000659318 and validation accuracy is 0.5416\n",
      "Epoch 41, CIFAR-10 Batch 1:  Training Loss is 0.000174289 and validation accuracy is 0.549\n",
      "Epoch 42, CIFAR-10 Batch 1:  Training Loss is 0.000133228 and validation accuracy is 0.5498\n",
      "Epoch 43, CIFAR-10 Batch 1:  Training Loss is 0.000171103 and validation accuracy is 0.5508\n",
      "Epoch 44, CIFAR-10 Batch 1:  Training Loss is 5.54583e-05 and validation accuracy is 0.5496\n",
      "Epoch 45, CIFAR-10 Batch 1:  Training Loss is 0.000177631 and validation accuracy is 0.543\n"
     ]
    }
   ],
   "source": [
    "\"\"\"\n",
    "DON'T MODIFY ANYTHING IN THIS CELL\n",
    "\"\"\"\n",
    "print('Checking the Training on a Single Batch...')\n",
    "with tf.Session() as sess:\n",
    "    # Initializing the variables\n",
    "    sess.run(tf.global_variables_initializer())\n",
    "    \n",
    "    # Training cycle\n",
    "    for epoch in range(epochs):\n",
    "        batch_i = 1\n",
    "        for batch_features, batch_labels in helper.load_preprocess_training_batch(batch_i, batch_size):\n",
    "            train_neural_network(sess, optimizer, keep_probability, batch_features, batch_labels)\n",
    "        print('Epoch {:>2}, CIFAR-10 Batch {}:  '.format(epoch + 1, batch_i), end='')\n",
    "        print_stats(sess, batch_features, batch_labels, cost, accuracy)"
   ]
  },
  {
   "cell_type": "markdown",
   "metadata": {
    "deletable": true,
    "editable": true
   },
   "source": [
    "### Fully Train the Model\n",
    "Now that you got a good accuracy with a single CIFAR-10 batch, try it with all five batches."
   ]
  },
  {
   "cell_type": "code",
   "execution_count": 19,
   "metadata": {
    "collapsed": false,
    "deletable": true,
    "editable": true
   },
   "outputs": [
    {
     "name": "stdout",
     "output_type": "stream",
     "text": [
      "Training...\n",
      "Epoch  1, CIFAR-10 Batch 1:  Training Loss is 2.2036 and validation accuracy is 0.226\n",
      "Epoch  1, CIFAR-10 Batch 2:  Training Loss is 1.88958 and validation accuracy is 0.3284\n",
      "Epoch  1, CIFAR-10 Batch 3:  Training Loss is 1.67204 and validation accuracy is 0.3608\n",
      "Epoch  1, CIFAR-10 Batch 4:  Training Loss is 1.5926 and validation accuracy is 0.3918\n",
      "Epoch  1, CIFAR-10 Batch 5:  Training Loss is 1.56502 and validation accuracy is 0.422\n",
      "Epoch  2, CIFAR-10 Batch 1:  Training Loss is 1.65825 and validation accuracy is 0.4554\n",
      "Epoch  2, CIFAR-10 Batch 2:  Training Loss is 1.28241 and validation accuracy is 0.4602\n",
      "Epoch  2, CIFAR-10 Batch 3:  Training Loss is 1.27538 and validation accuracy is 0.4846\n",
      "Epoch  2, CIFAR-10 Batch 4:  Training Loss is 1.22959 and validation accuracy is 0.4892\n",
      "Epoch  2, CIFAR-10 Batch 5:  Training Loss is 1.3108 and validation accuracy is 0.51\n",
      "Epoch  3, CIFAR-10 Batch 1:  Training Loss is 1.29604 and validation accuracy is 0.5224\n",
      "Epoch  3, CIFAR-10 Batch 2:  Training Loss is 1.13903 and validation accuracy is 0.4804\n",
      "Epoch  3, CIFAR-10 Batch 3:  Training Loss is 1.0447 and validation accuracy is 0.5318\n",
      "Epoch  3, CIFAR-10 Batch 4:  Training Loss is 1.09358 and validation accuracy is 0.5566\n",
      "Epoch  3, CIFAR-10 Batch 5:  Training Loss is 1.07555 and validation accuracy is 0.565\n",
      "Epoch  4, CIFAR-10 Batch 1:  Training Loss is 1.08303 and validation accuracy is 0.5706\n",
      "Epoch  4, CIFAR-10 Batch 2:  Training Loss is 0.832579 and validation accuracy is 0.567\n",
      "Epoch  4, CIFAR-10 Batch 3:  Training Loss is 0.799939 and validation accuracy is 0.5624\n",
      "Epoch  4, CIFAR-10 Batch 4:  Training Loss is 0.886275 and validation accuracy is 0.5808\n",
      "Epoch  4, CIFAR-10 Batch 5:  Training Loss is 0.822225 and validation accuracy is 0.6062\n",
      "Epoch  5, CIFAR-10 Batch 1:  Training Loss is 0.837972 and validation accuracy is 0.5858\n",
      "Epoch  5, CIFAR-10 Batch 2:  Training Loss is 0.623771 and validation accuracy is 0.5878\n",
      "Epoch  5, CIFAR-10 Batch 3:  Training Loss is 0.5573 and validation accuracy is 0.6058\n",
      "Epoch  5, CIFAR-10 Batch 4:  Training Loss is 0.69077 and validation accuracy is 0.6106\n",
      "Epoch  5, CIFAR-10 Batch 5:  Training Loss is 0.562655 and validation accuracy is 0.618\n",
      "Epoch  6, CIFAR-10 Batch 1:  Training Loss is 0.711638 and validation accuracy is 0.6088\n",
      "Epoch  6, CIFAR-10 Batch 2:  Training Loss is 0.566736 and validation accuracy is 0.6112\n",
      "Epoch  6, CIFAR-10 Batch 3:  Training Loss is 0.434349 and validation accuracy is 0.6344\n",
      "Epoch  6, CIFAR-10 Batch 4:  Training Loss is 0.478721 and validation accuracy is 0.6214\n",
      "Epoch  6, CIFAR-10 Batch 5:  Training Loss is 0.435738 and validation accuracy is 0.6342\n",
      "Epoch  7, CIFAR-10 Batch 1:  Training Loss is 0.540509 and validation accuracy is 0.6098\n",
      "Epoch  7, CIFAR-10 Batch 2:  Training Loss is 0.463405 and validation accuracy is 0.6086\n",
      "Epoch  7, CIFAR-10 Batch 3:  Training Loss is 0.316397 and validation accuracy is 0.6254\n",
      "Epoch  7, CIFAR-10 Batch 4:  Training Loss is 0.330737 and validation accuracy is 0.629\n",
      "Epoch  7, CIFAR-10 Batch 5:  Training Loss is 0.323492 and validation accuracy is 0.615\n",
      "Epoch  8, CIFAR-10 Batch 1:  Training Loss is 0.451899 and validation accuracy is 0.6312\n",
      "Epoch  8, CIFAR-10 Batch 2:  Training Loss is 0.355543 and validation accuracy is 0.6074\n",
      "Epoch  8, CIFAR-10 Batch 3:  Training Loss is 0.257339 and validation accuracy is 0.63\n",
      "Epoch  8, CIFAR-10 Batch 4:  Training Loss is 0.221613 and validation accuracy is 0.6432\n",
      "Epoch  8, CIFAR-10 Batch 5:  Training Loss is 0.222641 and validation accuracy is 0.632\n",
      "Epoch  9, CIFAR-10 Batch 1:  Training Loss is 0.299643 and validation accuracy is 0.6448\n",
      "Epoch  9, CIFAR-10 Batch 2:  Training Loss is 0.246293 and validation accuracy is 0.6286\n",
      "Epoch  9, CIFAR-10 Batch 3:  Training Loss is 0.180763 and validation accuracy is 0.6374\n",
      "Epoch  9, CIFAR-10 Batch 4:  Training Loss is 0.174431 and validation accuracy is 0.642\n",
      "Epoch  9, CIFAR-10 Batch 5:  Training Loss is 0.112759 and validation accuracy is 0.6362\n",
      "Epoch 10, CIFAR-10 Batch 1:  Training Loss is 0.225045 and validation accuracy is 0.643\n",
      "Epoch 10, CIFAR-10 Batch 2:  Training Loss is 0.208621 and validation accuracy is 0.6326\n",
      "Epoch 10, CIFAR-10 Batch 3:  Training Loss is 0.127638 and validation accuracy is 0.652\n",
      "Epoch 10, CIFAR-10 Batch 4:  Training Loss is 0.107752 and validation accuracy is 0.6452\n",
      "Epoch 10, CIFAR-10 Batch 5:  Training Loss is 0.0828522 and validation accuracy is 0.6396\n",
      "Epoch 11, CIFAR-10 Batch 1:  Training Loss is 0.141945 and validation accuracy is 0.653\n",
      "Epoch 11, CIFAR-10 Batch 2:  Training Loss is 0.155575 and validation accuracy is 0.6504\n",
      "Epoch 11, CIFAR-10 Batch 3:  Training Loss is 0.105023 and validation accuracy is 0.6462\n",
      "Epoch 11, CIFAR-10 Batch 4:  Training Loss is 0.0963992 and validation accuracy is 0.648\n",
      "Epoch 11, CIFAR-10 Batch 5:  Training Loss is 0.0674341 and validation accuracy is 0.648\n",
      "Epoch 12, CIFAR-10 Batch 1:  Training Loss is 0.120471 and validation accuracy is 0.6514\n",
      "Epoch 12, CIFAR-10 Batch 2:  Training Loss is 0.0857036 and validation accuracy is 0.6538\n",
      "Epoch 12, CIFAR-10 Batch 3:  Training Loss is 0.0993316 and validation accuracy is 0.6452\n",
      "Epoch 12, CIFAR-10 Batch 4:  Training Loss is 0.121412 and validation accuracy is 0.6304\n",
      "Epoch 12, CIFAR-10 Batch 5:  Training Loss is 0.0552115 and validation accuracy is 0.6324\n",
      "Epoch 13, CIFAR-10 Batch 1:  Training Loss is 0.114428 and validation accuracy is 0.6308\n",
      "Epoch 13, CIFAR-10 Batch 2:  Training Loss is 0.0623283 and validation accuracy is 0.6432\n",
      "Epoch 13, CIFAR-10 Batch 3:  Training Loss is 0.0445527 and validation accuracy is 0.6442\n",
      "Epoch 13, CIFAR-10 Batch 4:  Training Loss is 0.0750279 and validation accuracy is 0.6298\n",
      "Epoch 13, CIFAR-10 Batch 5:  Training Loss is 0.0320738 and validation accuracy is 0.6424\n",
      "Epoch 14, CIFAR-10 Batch 1:  Training Loss is 0.0611118 and validation accuracy is 0.64\n",
      "Epoch 14, CIFAR-10 Batch 2:  Training Loss is 0.0500878 and validation accuracy is 0.6446\n",
      "Epoch 14, CIFAR-10 Batch 3:  Training Loss is 0.0327115 and validation accuracy is 0.6426\n",
      "Epoch 14, CIFAR-10 Batch 4:  Training Loss is 0.0559546 and validation accuracy is 0.6242\n",
      "Epoch 14, CIFAR-10 Batch 5:  Training Loss is 0.0291554 and validation accuracy is 0.6516\n",
      "Epoch 15, CIFAR-10 Batch 1:  Training Loss is 0.0292791 and validation accuracy is 0.6364\n",
      "Epoch 15, CIFAR-10 Batch 2:  Training Loss is 0.0274625 and validation accuracy is 0.6432\n",
      "Epoch 15, CIFAR-10 Batch 3:  Training Loss is 0.0271434 and validation accuracy is 0.64\n",
      "Epoch 15, CIFAR-10 Batch 4:  Training Loss is 0.029757 and validation accuracy is 0.6336\n",
      "Epoch 15, CIFAR-10 Batch 5:  Training Loss is 0.0149332 and validation accuracy is 0.6518\n",
      "Epoch 16, CIFAR-10 Batch 1:  Training Loss is 0.0385253 and validation accuracy is 0.6516\n",
      "Epoch 16, CIFAR-10 Batch 2:  Training Loss is 0.0327677 and validation accuracy is 0.6478\n",
      "Epoch 16, CIFAR-10 Batch 3:  Training Loss is 0.0198356 and validation accuracy is 0.6462\n",
      "Epoch 16, CIFAR-10 Batch 4:  Training Loss is 0.0184297 and validation accuracy is 0.6392\n",
      "Epoch 16, CIFAR-10 Batch 5:  Training Loss is 0.0228565 and validation accuracy is 0.6538\n",
      "Epoch 17, CIFAR-10 Batch 1:  Training Loss is 0.0151177 and validation accuracy is 0.6362\n",
      "Epoch 17, CIFAR-10 Batch 2:  Training Loss is 0.0382262 and validation accuracy is 0.6358\n",
      "Epoch 17, CIFAR-10 Batch 3:  Training Loss is 0.022296 and validation accuracy is 0.6482\n",
      "Epoch 17, CIFAR-10 Batch 4:  Training Loss is 0.0240657 and validation accuracy is 0.6422\n",
      "Epoch 17, CIFAR-10 Batch 5:  Training Loss is 0.0232702 and validation accuracy is 0.6566\n",
      "Epoch 18, CIFAR-10 Batch 1:  Training Loss is 0.0250378 and validation accuracy is 0.6372\n",
      "Epoch 18, CIFAR-10 Batch 2:  Training Loss is 0.0220019 and validation accuracy is 0.6552\n",
      "Epoch 18, CIFAR-10 Batch 3:  Training Loss is 0.0143916 and validation accuracy is 0.6496\n",
      "Epoch 18, CIFAR-10 Batch 4:  Training Loss is 0.0147405 and validation accuracy is 0.6418\n",
      "Epoch 18, CIFAR-10 Batch 5:  Training Loss is 0.0069277 and validation accuracy is 0.6576\n",
      "Epoch 19, CIFAR-10 Batch 1:  Training Loss is 0.00843275 and validation accuracy is 0.6366\n",
      "Epoch 19, CIFAR-10 Batch 2:  Training Loss is 0.00976683 and validation accuracy is 0.655\n",
      "Epoch 19, CIFAR-10 Batch 3:  Training Loss is 0.00854666 and validation accuracy is 0.6482\n",
      "Epoch 19, CIFAR-10 Batch 4:  Training Loss is 0.00881032 and validation accuracy is 0.6492\n",
      "Epoch 19, CIFAR-10 Batch 5:  Training Loss is 0.0029781 and validation accuracy is 0.6532\n",
      "Epoch 20, CIFAR-10 Batch 1:  Training Loss is 0.00479612 and validation accuracy is 0.6462\n",
      "Epoch 20, CIFAR-10 Batch 2:  Training Loss is 0.00716349 and validation accuracy is 0.65\n",
      "Epoch 20, CIFAR-10 Batch 3:  Training Loss is 0.00525817 and validation accuracy is 0.6532\n",
      "Epoch 20, CIFAR-10 Batch 4:  Training Loss is 0.00455028 and validation accuracy is 0.6338\n",
      "Epoch 20, CIFAR-10 Batch 5:  Training Loss is 0.00201445 and validation accuracy is 0.6562\n",
      "Epoch 21, CIFAR-10 Batch 1:  Training Loss is 0.00505577 and validation accuracy is 0.6388\n",
      "Epoch 21, CIFAR-10 Batch 2:  Training Loss is 0.00545611 and validation accuracy is 0.6452\n",
      "Epoch 21, CIFAR-10 Batch 3:  Training Loss is 0.00169285 and validation accuracy is 0.6542\n",
      "Epoch 21, CIFAR-10 Batch 4:  Training Loss is 0.00350448 and validation accuracy is 0.6226\n",
      "Epoch 21, CIFAR-10 Batch 5:  Training Loss is 0.00118189 and validation accuracy is 0.654\n",
      "Epoch 22, CIFAR-10 Batch 1:  Training Loss is 0.00239257 and validation accuracy is 0.634\n",
      "Epoch 22, CIFAR-10 Batch 2:  Training Loss is 0.00811968 and validation accuracy is 0.649\n",
      "Epoch 22, CIFAR-10 Batch 3:  Training Loss is 0.00140221 and validation accuracy is 0.6452\n",
      "Epoch 22, CIFAR-10 Batch 4:  Training Loss is 0.00467197 and validation accuracy is 0.6318\n",
      "Epoch 22, CIFAR-10 Batch 5:  Training Loss is 0.00242097 and validation accuracy is 0.653\n",
      "Epoch 23, CIFAR-10 Batch 1:  Training Loss is 0.00330906 and validation accuracy is 0.6374\n",
      "Epoch 23, CIFAR-10 Batch 2:  Training Loss is 0.00537764 and validation accuracy is 0.6502\n",
      "Epoch 23, CIFAR-10 Batch 3:  Training Loss is 0.000719601 and validation accuracy is 0.6638\n",
      "Epoch 23, CIFAR-10 Batch 4:  Training Loss is 0.00431712 and validation accuracy is 0.6406\n",
      "Epoch 23, CIFAR-10 Batch 5:  Training Loss is 0.000733205 and validation accuracy is 0.6528\n",
      "Epoch 24, CIFAR-10 Batch 1:  Training Loss is 0.00485921 and validation accuracy is 0.6338\n",
      "Epoch 24, CIFAR-10 Batch 2:  Training Loss is 0.0030726 and validation accuracy is 0.6524\n",
      "Epoch 24, CIFAR-10 Batch 3:  Training Loss is 0.00166353 and validation accuracy is 0.6468\n",
      "Epoch 24, CIFAR-10 Batch 4:  Training Loss is 0.00515379 and validation accuracy is 0.6434\n",
      "Epoch 24, CIFAR-10 Batch 5:  Training Loss is 0.00232776 and validation accuracy is 0.6646\n",
      "Epoch 25, CIFAR-10 Batch 1:  Training Loss is 0.00114991 and validation accuracy is 0.6444\n",
      "Epoch 25, CIFAR-10 Batch 2:  Training Loss is 0.00194213 and validation accuracy is 0.655\n",
      "Epoch 25, CIFAR-10 Batch 3:  Training Loss is 0.000476189 and validation accuracy is 0.65\n",
      "Epoch 25, CIFAR-10 Batch 4:  Training Loss is 0.00486452 and validation accuracy is 0.649\n",
      "Epoch 25, CIFAR-10 Batch 5:  Training Loss is 0.00293966 and validation accuracy is 0.6536\n",
      "Epoch 26, CIFAR-10 Batch 1:  Training Loss is 0.00217867 and validation accuracy is 0.6404\n",
      "Epoch 26, CIFAR-10 Batch 2:  Training Loss is 0.00411261 and validation accuracy is 0.6442\n",
      "Epoch 26, CIFAR-10 Batch 3:  Training Loss is 0.000419455 and validation accuracy is 0.6594\n",
      "Epoch 26, CIFAR-10 Batch 4:  Training Loss is 0.00216414 and validation accuracy is 0.6464\n",
      "Epoch 26, CIFAR-10 Batch 5:  Training Loss is 0.0015791 and validation accuracy is 0.6614\n",
      "Epoch 27, CIFAR-10 Batch 1:  Training Loss is 0.00106462 and validation accuracy is 0.6548\n",
      "Epoch 27, CIFAR-10 Batch 2:  Training Loss is 0.00146416 and validation accuracy is 0.6632\n",
      "Epoch 27, CIFAR-10 Batch 3:  Training Loss is 0.00108295 and validation accuracy is 0.6508\n",
      "Epoch 27, CIFAR-10 Batch 4:  Training Loss is 0.00394148 and validation accuracy is 0.6554\n",
      "Epoch 27, CIFAR-10 Batch 5:  Training Loss is 0.00109824 and validation accuracy is 0.6478\n",
      "Epoch 28, CIFAR-10 Batch 1:  Training Loss is 0.00151462 and validation accuracy is 0.6466\n",
      "Epoch 28, CIFAR-10 Batch 2:  Training Loss is 0.00277302 and validation accuracy is 0.6462\n",
      "Epoch 28, CIFAR-10 Batch 3:  Training Loss is 0.00030283 and validation accuracy is 0.6514\n",
      "Epoch 28, CIFAR-10 Batch 4:  Training Loss is 0.000710985 and validation accuracy is 0.66\n",
      "Epoch 28, CIFAR-10 Batch 5:  Training Loss is 0.00115566 and validation accuracy is 0.6558\n",
      "Epoch 29, CIFAR-10 Batch 1:  Training Loss is 0.000534216 and validation accuracy is 0.652\n",
      "Epoch 29, CIFAR-10 Batch 2:  Training Loss is 0.00104244 and validation accuracy is 0.644\n",
      "Epoch 29, CIFAR-10 Batch 3:  Training Loss is 0.000815848 and validation accuracy is 0.6594\n",
      "Epoch 29, CIFAR-10 Batch 4:  Training Loss is 0.000780256 and validation accuracy is 0.6456\n",
      "Epoch 29, CIFAR-10 Batch 5:  Training Loss is 0.000726662 and validation accuracy is 0.6646\n",
      "Epoch 30, CIFAR-10 Batch 1:  Training Loss is 0.000482892 and validation accuracy is 0.6468\n",
      "Epoch 30, CIFAR-10 Batch 2:  Training Loss is 0.00187432 and validation accuracy is 0.65\n",
      "Epoch 30, CIFAR-10 Batch 3:  Training Loss is 0.00441653 and validation accuracy is 0.6386\n",
      "Epoch 30, CIFAR-10 Batch 4:  Training Loss is 0.0019276 and validation accuracy is 0.646\n",
      "Epoch 30, CIFAR-10 Batch 5:  Training Loss is 0.00130044 and validation accuracy is 0.6586\n",
      "Epoch 31, CIFAR-10 Batch 1:  Training Loss is 0.00109683 and validation accuracy is 0.6432\n",
      "Epoch 31, CIFAR-10 Batch 2:  Training Loss is 0.00127283 and validation accuracy is 0.6558\n",
      "Epoch 31, CIFAR-10 Batch 3:  Training Loss is 0.0023142 and validation accuracy is 0.6482\n",
      "Epoch 31, CIFAR-10 Batch 4:  Training Loss is 0.00164473 and validation accuracy is 0.6478\n",
      "Epoch 31, CIFAR-10 Batch 5:  Training Loss is 0.000283265 and validation accuracy is 0.6532\n",
      "Epoch 32, CIFAR-10 Batch 1:  Training Loss is 0.00151621 and validation accuracy is 0.6556\n",
      "Epoch 32, CIFAR-10 Batch 2:  Training Loss is 0.00141612 and validation accuracy is 0.638\n",
      "Epoch 32, CIFAR-10 Batch 3:  Training Loss is 0.000398024 and validation accuracy is 0.6466\n",
      "Epoch 32, CIFAR-10 Batch 4:  Training Loss is 0.0016507 and validation accuracy is 0.6588\n",
      "Epoch 32, CIFAR-10 Batch 5:  Training Loss is 0.00322404 and validation accuracy is 0.6592\n",
      "Epoch 33, CIFAR-10 Batch 1:  Training Loss is 0.000444199 and validation accuracy is 0.6612\n",
      "Epoch 33, CIFAR-10 Batch 2:  Training Loss is 0.000352635 and validation accuracy is 0.6512\n",
      "Epoch 33, CIFAR-10 Batch 3:  Training Loss is 0.000412256 and validation accuracy is 0.6624\n",
      "Epoch 33, CIFAR-10 Batch 4:  Training Loss is 0.0076934 and validation accuracy is 0.6492\n",
      "Epoch 33, CIFAR-10 Batch 5:  Training Loss is 0.00109851 and validation accuracy is 0.6544\n",
      "Epoch 34, CIFAR-10 Batch 1:  Training Loss is 0.000687536 and validation accuracy is 0.655\n",
      "Epoch 34, CIFAR-10 Batch 2:  Training Loss is 0.000552407 and validation accuracy is 0.6444\n",
      "Epoch 34, CIFAR-10 Batch 3:  Training Loss is 0.000641993 and validation accuracy is 0.6542\n",
      "Epoch 34, CIFAR-10 Batch 4:  Training Loss is 0.00322579 and validation accuracy is 0.645\n",
      "Epoch 34, CIFAR-10 Batch 5:  Training Loss is 0.00093083 and validation accuracy is 0.66\n",
      "Epoch 35, CIFAR-10 Batch 1:  Training Loss is 0.00132525 and validation accuracy is 0.6596\n",
      "Epoch 35, CIFAR-10 Batch 2:  Training Loss is 0.0010775 and validation accuracy is 0.6564\n",
      "Epoch 35, CIFAR-10 Batch 3:  Training Loss is 0.00188048 and validation accuracy is 0.642\n",
      "Epoch 35, CIFAR-10 Batch 4:  Training Loss is 0.0450718 and validation accuracy is 0.6384\n",
      "Epoch 35, CIFAR-10 Batch 5:  Training Loss is 0.000438753 and validation accuracy is 0.6552\n",
      "Epoch 36, CIFAR-10 Batch 1:  Training Loss is 0.000749121 and validation accuracy is 0.6506\n",
      "Epoch 36, CIFAR-10 Batch 2:  Training Loss is 0.000954081 and validation accuracy is 0.6326\n",
      "Epoch 36, CIFAR-10 Batch 3:  Training Loss is 0.000619069 and validation accuracy is 0.6484\n",
      "Epoch 36, CIFAR-10 Batch 4:  Training Loss is 0.00077113 and validation accuracy is 0.6396\n",
      "Epoch 36, CIFAR-10 Batch 5:  Training Loss is 0.000569355 and validation accuracy is 0.6572\n",
      "Epoch 37, CIFAR-10 Batch 1:  Training Loss is 0.0010378 and validation accuracy is 0.6452\n",
      "Epoch 37, CIFAR-10 Batch 2:  Training Loss is 0.000516675 and validation accuracy is 0.6526\n",
      "Epoch 37, CIFAR-10 Batch 3:  Training Loss is 0.00071583 and validation accuracy is 0.6414\n",
      "Epoch 37, CIFAR-10 Batch 4:  Training Loss is 0.00110789 and validation accuracy is 0.6444\n",
      "Epoch 37, CIFAR-10 Batch 5:  Training Loss is 0.00126686 and validation accuracy is 0.6476\n",
      "Epoch 38, CIFAR-10 Batch 1:  Training Loss is 0.000502431 and validation accuracy is 0.6408\n",
      "Epoch 38, CIFAR-10 Batch 2:  Training Loss is 0.000566231 and validation accuracy is 0.646\n",
      "Epoch 38, CIFAR-10 Batch 3:  Training Loss is 0.00054127 and validation accuracy is 0.6548\n",
      "Epoch 38, CIFAR-10 Batch 4:  Training Loss is 0.000787526 and validation accuracy is 0.643\n",
      "Epoch 38, CIFAR-10 Batch 5:  Training Loss is 0.00185364 and validation accuracy is 0.6526\n",
      "Epoch 39, CIFAR-10 Batch 1:  Training Loss is 0.000681369 and validation accuracy is 0.6472\n",
      "Epoch 39, CIFAR-10 Batch 2:  Training Loss is 0.00190302 and validation accuracy is 0.6414\n",
      "Epoch 39, CIFAR-10 Batch 3:  Training Loss is 0.000437341 and validation accuracy is 0.6418\n",
      "Epoch 39, CIFAR-10 Batch 4:  Training Loss is 0.00280765 and validation accuracy is 0.6476\n",
      "Epoch 39, CIFAR-10 Batch 5:  Training Loss is 0.00129728 and validation accuracy is 0.647\n",
      "Epoch 40, CIFAR-10 Batch 1:  Training Loss is 0.00072618 and validation accuracy is 0.6576\n",
      "Epoch 40, CIFAR-10 Batch 2:  Training Loss is 0.00038541 and validation accuracy is 0.656\n",
      "Epoch 40, CIFAR-10 Batch 3:  Training Loss is 0.00105633 and validation accuracy is 0.6428\n",
      "Epoch 40, CIFAR-10 Batch 4:  Training Loss is 0.00071563 and validation accuracy is 0.647\n",
      "Epoch 40, CIFAR-10 Batch 5:  Training Loss is 0.00129734 and validation accuracy is 0.6416\n",
      "Epoch 41, CIFAR-10 Batch 1:  Training Loss is 0.00343228 and validation accuracy is 0.6382\n",
      "Epoch 41, CIFAR-10 Batch 2:  Training Loss is 0.00047337 and validation accuracy is 0.6512\n",
      "Epoch 41, CIFAR-10 Batch 3:  Training Loss is 0.000442562 and validation accuracy is 0.6442\n",
      "Epoch 41, CIFAR-10 Batch 4:  Training Loss is 0.000173237 and validation accuracy is 0.6596\n",
      "Epoch 41, CIFAR-10 Batch 5:  Training Loss is 0.000549085 and validation accuracy is 0.6444\n",
      "Epoch 42, CIFAR-10 Batch 1:  Training Loss is 0.00131848 and validation accuracy is 0.6546\n",
      "Epoch 42, CIFAR-10 Batch 2:  Training Loss is 0.000582302 and validation accuracy is 0.6526\n",
      "Epoch 42, CIFAR-10 Batch 3:  Training Loss is 0.00103422 and validation accuracy is 0.648\n",
      "Epoch 42, CIFAR-10 Batch 4:  Training Loss is 0.000319566 and validation accuracy is 0.648\n",
      "Epoch 42, CIFAR-10 Batch 5:  Training Loss is 0.0011991 and validation accuracy is 0.6478\n",
      "Epoch 43, CIFAR-10 Batch 1:  Training Loss is 0.00119578 and validation accuracy is 0.6432\n",
      "Epoch 43, CIFAR-10 Batch 2:  Training Loss is 0.000338873 and validation accuracy is 0.6514\n",
      "Epoch 43, CIFAR-10 Batch 3:  Training Loss is 0.000160969 and validation accuracy is 0.6578\n",
      "Epoch 43, CIFAR-10 Batch 4:  Training Loss is 0.000438813 and validation accuracy is 0.6542\n",
      "Epoch 43, CIFAR-10 Batch 5:  Training Loss is 0.000285729 and validation accuracy is 0.6526\n",
      "Epoch 44, CIFAR-10 Batch 1:  Training Loss is 0.000532421 and validation accuracy is 0.6496\n",
      "Epoch 44, CIFAR-10 Batch 2:  Training Loss is 0.000267616 and validation accuracy is 0.6618\n",
      "Epoch 44, CIFAR-10 Batch 3:  Training Loss is 8.15754e-05 and validation accuracy is 0.6626\n",
      "Epoch 44, CIFAR-10 Batch 4:  Training Loss is 0.000325463 and validation accuracy is 0.6458\n",
      "Epoch 44, CIFAR-10 Batch 5:  Training Loss is 0.000252985 and validation accuracy is 0.65\n",
      "Epoch 45, CIFAR-10 Batch 1:  Training Loss is 0.000256421 and validation accuracy is 0.654\n",
      "Epoch 45, CIFAR-10 Batch 2:  Training Loss is 0.000380423 and validation accuracy is 0.6496\n",
      "Epoch 45, CIFAR-10 Batch 3:  Training Loss is 0.000411184 and validation accuracy is 0.6528\n",
      "Epoch 45, CIFAR-10 Batch 4:  Training Loss is 6.47612e-05 and validation accuracy is 0.6476\n",
      "Epoch 45, CIFAR-10 Batch 5:  Training Loss is 0.000489569 and validation accuracy is 0.6564\n"
     ]
    }
   ],
   "source": [
    "\"\"\"\n",
    "DON'T MODIFY ANYTHING IN THIS CELL\n",
    "\"\"\"\n",
    "save_model_path = './image_classification'\n",
    "\n",
    "print('Training...')\n",
    "with tf.Session() as sess:\n",
    "    # Initializing the variables\n",
    "    sess.run(tf.global_variables_initializer())\n",
    "    \n",
    "    # Training cycle\n",
    "    for epoch in range(epochs):\n",
    "        # Loop over all batches\n",
    "        n_batches = 5\n",
    "        for batch_i in range(1, n_batches + 1):\n",
    "            for batch_features, batch_labels in helper.load_preprocess_training_batch(batch_i, batch_size):\n",
    "                train_neural_network(sess, optimizer, keep_probability, batch_features, batch_labels)\n",
    "            print('Epoch {:>2}, CIFAR-10 Batch {}:  '.format(epoch + 1, batch_i), end='')\n",
    "            print_stats(sess, batch_features, batch_labels, cost, accuracy)\n",
    "            \n",
    "    # Save Model\n",
    "    saver = tf.train.Saver()\n",
    "    save_path = saver.save(sess, save_model_path)"
   ]
  },
  {
   "cell_type": "markdown",
   "metadata": {
    "deletable": true,
    "editable": true
   },
   "source": [
    "# Checkpoint\n",
    "The model has been saved to disk.\n",
    "## Test Model\n",
    "Test your model against the test dataset.  This will be your final accuracy. You should have an accuracy greater than 50%. If you don't, keep tweaking the model architecture and parameters."
   ]
  },
  {
   "cell_type": "code",
   "execution_count": 20,
   "metadata": {
    "collapsed": false,
    "deletable": true,
    "editable": true
   },
   "outputs": [
    {
     "name": "stdout",
     "output_type": "stream",
     "text": [
      "Testing Accuracy: 0.6543710443037974\n",
      "\n"
     ]
    },
    {
     "data": {
      "image/png": "[encoded data removed]",
      "text/plain": [
       "<matplotlib.figure.Figure at 0x7f7ee518e208>"
      ]
     },
     "metadata": {
      "image/png": {
       "height": 319,
       "width": 355
      }
     },
     "output_type": "display_data"
    }
   ],
   "source": [
    "\"\"\"\n",
    "DON'T MODIFY ANYTHING IN THIS CELL\n",
    "\"\"\"\n",
    "%matplotlib inline\n",
    "%config InlineBackend.figure_format = 'retina'\n",
    "\n",
    "import tensorflow as tf\n",
    "import pickle\n",
    "import helper\n",
    "import random\n",
    "\n",
    "# Set batch size if not already set\n",
    "try:\n",
    "    if batch_size:\n",
    "        pass\n",
    "except NameError:\n",
    "    batch_size = 64\n",
    "\n",
    "save_model_path = './image_classification'\n",
    "n_samples = 4\n",
    "top_n_predictions = 3\n",
    "\n",
    "def test_model():\n",
    "    \"\"\"\n",
    "    Test the saved model against the test dataset\n",
    "    \"\"\"\n",
    "\n",
    "    test_features, test_labels = pickle.load(open('preprocess_training.p', mode='rb'))\n",
    "    loaded_graph = tf.Graph()\n",
    "\n",
    "    with tf.Session(graph=loaded_graph) as sess:\n",
    "        # Load model\n",
    "        loader = tf.train.import_meta_graph(save_model_path + '.meta')\n",
    "        loader.restore(sess, save_model_path)\n",
    "\n",
    "        # Get Tensors from loaded model\n",
    "        loaded_x = loaded_graph.get_tensor_by_name('x:0')\n",
    "        loaded_y = loaded_graph.get_tensor_by_name('y:0')\n",
    "        loaded_keep_prob = loaded_graph.get_tensor_by_name('keep_prob:0')\n",
    "        loaded_logits = loaded_graph.get_tensor_by_name('logits:0')\n",
    "        loaded_acc = loaded_graph.get_tensor_by_name('accuracy:0')\n",
    "        \n",
    "        # Get accuracy in batches for memory limitations\n",
    "        test_batch_acc_total = 0\n",
    "        test_batch_count = 0\n",
    "        \n",
    "        for train_feature_batch, train_label_batch in helper.batch_features_labels(test_features, test_labels, batch_size):\n",
    "            test_batch_acc_total += sess.run(\n",
    "                loaded_acc,\n",
    "                feed_dict={loaded_x: train_feature_batch, loaded_y: train_label_batch, loaded_keep_prob: 1.0})\n",
    "            test_batch_count += 1\n",
    "\n",
    "        print('Testing Accuracy: {}\\n'.format(test_batch_acc_total/test_batch_count))\n",
    "\n",
    "        # Print Random Samples\n",
    "        random_test_features, random_test_labels = tuple(zip(*random.sample(list(zip(test_features, test_labels)), n_samples)))\n",
    "        random_test_predictions = sess.run(\n",
    "            tf.nn.top_k(tf.nn.softmax(loaded_logits), top_n_predictions),\n",
    "            feed_dict={loaded_x: random_test_features, loaded_y: random_test_labels, loaded_keep_prob: 1.0})\n",
    "        helper.display_image_predictions(random_test_features, random_test_labels, random_test_predictions)\n",
    "\n",
    "\n",
    "test_model()"
   ]
  },
  {
   "cell_type": "markdown",
   "metadata": {
    "deletable": true,
    "editable": true
   },
   "source": [
    "## Why 50-80% Accuracy?\n",
    "You might be wondering why you can't get an accuracy any higher. First things first, 50% isn't bad for a simple CNN.  Pure guessing would get you 10% accuracy. However, you might notice people are getting scores [well above 80%](http://rodrigob.github.io/are_we_there_yet/build/classification_datasets_results.html#43494641522d3130).  That's because we haven't taught you all there is to know about neural networks. We still need to cover a few more techniques.\n",
    "## Submitting This Project\n",
    "When submitting this project, make sure to run all the cells before saving the notebook.  Save the notebook file as \"dlnd_image_classification.ipynb\" and save it as a HTML file under \"File\" -> \"Download as\".  Include the \"helper.py\" and \"problem_unittests.py\" files in your submission."
   ]
  }
 ],
 "metadata": {
  "kernelspec": {
   "display_name": "Python 3",
   "language": "python",
   "name": "python3"
  },
  "language_info": {
   "codemirror_mode": {
    "name": "ipython",
    "version": 3
   },
   "file_extension": ".py",
   "mimetype": "text/x-python",
   "name": "python",
   "nbconvert_exporter": "python",
   "pygments_lexer": "ipython3",
   "version": "3.5.3"
  },
  "widgets": {
   "state": {},
   "version": "1.1.2"
  }
 },
 "nbformat": 4,
 "nbformat_minor": 0
}
